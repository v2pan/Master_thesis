{
 "cells": [
  {
   "cell_type": "markdown",
   "metadata": {},
   "source": [
    "# Final Evaluation \n",
    "\n",
    "In this notebook the final resut is going to be evaluated. The data is first loaded into the Notebokk and then loaded into the current database.\n",
    "After that the pipeline in the scope of this thesis is applied and the results collected for final evaluation"
   ]
  },
  {
   "cell_type": "code",
   "execution_count": 1,
   "metadata": {},
   "outputs": [
    {
     "name": "stdout",
     "output_type": "stream",
     "text": [
      "The number of unique categories is 199\n"
     ]
    },
    {
     "data": {
      "text/html": [
       "<div>\n",
       "<style scoped>\n",
       "    .dataframe tbody tr th:only-of-type {\n",
       "        vertical-align: middle;\n",
       "    }\n",
       "\n",
       "    .dataframe tbody tr th {\n",
       "        vertical-align: top;\n",
       "    }\n",
       "\n",
       "    .dataframe thead th {\n",
       "        text-align: right;\n",
       "    }\n",
       "</style>\n",
       "<table border=\"1\" class=\"dataframe\">\n",
       "  <thead>\n",
       "    <tr style=\"text-align: right;\">\n",
       "      <th></th>\n",
       "      <th>name</th>\n",
       "      <th>category_name</th>\n",
       "    </tr>\n",
       "  </thead>\n",
       "  <tbody>\n",
       "    <tr>\n",
       "      <th>1</th>\n",
       "      <td>City color Be Matte Blush in Hibiscus</td>\n",
       "      <td>Beauty/Makeup/Face</td>\n",
       "    </tr>\n",
       "    <tr>\n",
       "      <th>2</th>\n",
       "      <td>Pageant Dress Slip</td>\n",
       "      <td>Kids/Girls (4+)/Dresses</td>\n",
       "    </tr>\n",
       "    <tr>\n",
       "      <th>3</th>\n",
       "      <td>New! VS Pink Bikini Top</td>\n",
       "      <td>Women/Swimwear/Two-Piece</td>\n",
       "    </tr>\n",
       "    <tr>\n",
       "      <th>4</th>\n",
       "      <td>Bring me the horizon posters</td>\n",
       "      <td>Home/Artwork/Posters &amp; Prints</td>\n",
       "    </tr>\n",
       "  </tbody>\n",
       "</table>\n",
       "</div>"
      ],
      "text/plain": [
       "                                    name                  category_name\n",
       "1  City color Be Matte Blush in Hibiscus             Beauty/Makeup/Face\n",
       "2                     Pageant Dress Slip        Kids/Girls (4+)/Dresses\n",
       "3                New! VS Pink Bikini Top       Women/Swimwear/Two-Piece\n",
       "4           Bring me the horizon posters  Home/Artwork/Posters & Prints"
      ]
     },
     "execution_count": 1,
     "metadata": {},
     "output_type": "execute_result"
    }
   ],
   "source": [
    "import pandas as pd\n",
    "import numpy\n",
    "import re\n",
    "#path=\"Data/mercari-price-suggestion-challenge/test.tsv\"\n",
    "path=\"Data/mercari-price-suggestion-challenge/test_sample.tsv\"\n",
    "#Read the file\n",
    "data=pd.read_csv(path,sep=\"\\t\" )\n",
    "print(f\"The number of unique categories is {data['category_name'].nunique()}\")\n",
    "\n",
    "\n",
    "data = data[[\"name\", \"category_name\"]]\n",
    "data=data[1:5]\n",
    "data\n",
    "\n",
    "\n",
    "\n",
    "#FOR creation\n",
    "# sampled_data=data.sample(n=500, random_state=42)\n",
    "# # Optional: check the shape to confirm\n",
    "# print(sampled_data.shape)\n",
    "\n",
    "# # Optional: preview the sampled data\n",
    "# sampled_data.head()\n",
    "# # Write the sampled data back to a TSV file\n",
    "# sampled_data.to_csv(\"Data/mercari-price-suggestion-challenge/test_sample.tsv\", sep='\\t', index=False)\n",
    "\n",
    "# print(\"Sample saved successfully to test_sample.tsv\")"
   ]
  },
  {
   "cell_type": "code",
   "execution_count": 2,
   "metadata": {},
   "outputs": [
    {
     "data": {
      "application/vnd.microsoft.datawrangler.viewer.v0+json": {
       "columns": [
        {
         "name": "index",
         "rawType": "int64",
         "type": "integer"
        },
        {
         "name": "name",
         "rawType": "object",
         "type": "string"
        },
        {
         "name": "category_name",
         "rawType": "object",
         "type": "string"
        }
       ],
       "conversionMethod": "pd.DataFrame",
       "ref": "adc9dc8b-3739-494b-bf53-0ef6bdeb7d82",
       "rows": [
        [
         "1",
         "City color Be Matte Blush in Hibiscus",
         "Beauty/Makeup/Face"
        ]
       ],
       "shape": {
        "columns": 2,
        "rows": 1
       }
      },
      "text/html": [
       "<div>\n",
       "<style scoped>\n",
       "    .dataframe tbody tr th:only-of-type {\n",
       "        vertical-align: middle;\n",
       "    }\n",
       "\n",
       "    .dataframe tbody tr th {\n",
       "        vertical-align: top;\n",
       "    }\n",
       "\n",
       "    .dataframe thead th {\n",
       "        text-align: right;\n",
       "    }\n",
       "</style>\n",
       "<table border=\"1\" class=\"dataframe\">\n",
       "  <thead>\n",
       "    <tr style=\"text-align: right;\">\n",
       "      <th></th>\n",
       "      <th>name</th>\n",
       "      <th>category_name</th>\n",
       "    </tr>\n",
       "  </thead>\n",
       "  <tbody>\n",
       "    <tr>\n",
       "      <th>1</th>\n",
       "      <td>City color Be Matte Blush in Hibiscus</td>\n",
       "      <td>Beauty/Makeup/Face</td>\n",
       "    </tr>\n",
       "  </tbody>\n",
       "</table>\n",
       "</div>"
      ],
      "text/plain": [
       "                                    name       category_name\n",
       "1  City color Be Matte Blush in Hibiscus  Beauty/Makeup/Face"
      ]
     },
     "execution_count": 2,
     "metadata": {},
     "output_type": "execute_result"
    }
   ],
   "source": [
    "unique_categories = data['category_name'].unique()\n",
    "\n",
    "unique_categories=unique_categories[0]\n",
    "temp_df=pd.DataFrame()\n",
    "temp_df=data[data['category_name']==unique_categories]\n",
    "\n",
    "temp_df"
   ]
  },
  {
   "cell_type": "code",
   "execution_count": 3,
   "metadata": {},
   "outputs": [
    {
     "name": "stderr",
     "output_type": "stream",
     "text": [
      "/home/vlapan/Documents/Masterarbeit/Relational/venv/lib/python3.12/site-packages/tqdm/auto.py:21: TqdmWarning: IProgress not found. Please update jupyter and ipywidgets. See https://ipywidgets.readthedocs.io/en/stable/user_install.html\n",
      "  from .autonotebook import tqdm as notebook_tqdm\n"
     ]
    }
   ],
   "source": [
    "from Evaluation.evaluation import evaluate_results\n",
    "from Main.combined_pipeline import combined_pipeline\n",
    "from Evaluation.test_evaluation import evaluate_results\n",
    "from Utilities.database import query_database"
   ]
  },
  {
   "cell_type": "code",
   "execution_count": 4,
   "metadata": {},
   "outputs": [],
   "source": [
    "#Function for populating the database\n",
    "def create_and_populate_table(dataframe, table_name):\n",
    "    try:\n",
    "        # Clean table name (optional)\n",
    "        table_name = table_name.replace(\" \", \"_\")\n",
    "\n",
    "        # Drop table if it exists\n",
    "        delete_table_query = f\"DROP TABLE IF EXISTS {table_name} CASCADE;\"\n",
    "        query_database(delete_table_query, printing=False)\n",
    "\n",
    "        # Convert all data to string format\n",
    "        dataframe = dataframe.astype(str)\n",
    "\n",
    "        # Create table with a single column\n",
    "        create_table_query = f\"CREATE TABLE IF NOT EXISTS {table_name} (Name TEXT , Category Text);\"\n",
    "        query_database(create_table_query, printing=False)\n",
    "        print(f\"Table '{table_name}' created successfully.\")\n",
    "\n",
    "        values = []\n",
    "        for _, row in dataframe.iterrows():\n",
    "            name = row['name'].replace(\"'\", \"''\")  # Escape single quotes in SQL\n",
    "            category = row['category_name'].replace(\"'\", \"''\")  # Escape single quotes in SQL\n",
    "            values.append(f\"('{name}', '{category}')\")\n",
    "\n",
    "        if values:\n",
    "            insert_query = f\"INSERT INTO {table_name} VALUES {', '.join(values)};\"\n",
    "            query_database(insert_query, printing=False)\n",
    "            print(f\"Table '{table_name}' populated successfully.\")\n",
    "        else:\n",
    "            print(\"No data to insert.\")\n",
    "\n",
    "    except Exception as e:\n",
    "        print(f\"An error occurred: {e}\")"
   ]
  },
  {
   "cell_type": "code",
   "execution_count": 5,
   "metadata": {},
   "outputs": [
    {
     "name": "stdout",
     "output_type": "stream",
     "text": [
      "Table 'mercari_data' created successfully.\n",
      "Table 'mercari_data' populated successfully.\n"
     ]
    }
   ],
   "source": [
    "create_and_populate_table(data, \"mercari_data\")"
   ]
  },
  {
   "cell_type": "code",
   "execution_count": 6,
   "metadata": {},
   "outputs": [
    {
     "name": "stdout",
     "output_type": "stream",
     "text": [
      "The final answer to the query is [('City color Be Matte Blush in Hibiscus', 'Beauty/Makeup/Face')]\n"
     ]
    }
   ],
   "source": [
    "query=f\"SELECT * FROM mercari_data WHERE Category='{unique_categories}'\"\n",
    "expected=query_database(query)"
   ]
  },
  {
   "cell_type": "code",
   "execution_count": 7,
   "metadata": {},
   "outputs": [
    {
     "name": "stdout",
     "output_type": "stream",
     "text": [
      "The final answer to the query is []\n",
      "--------------------------------------\n",
      "The \n",
      "”SELECT * FROM mercari_data WHERE mercari_data.name='Beauty/Makeup/Face'\n",
      " has a WHERE clause.\n",
      "<bound method TokenList.get_name of <Where 'WHERE ...' at 0x7EB4A6827350>>\n",
      "The final answer to the query is [('City color Be Matte Blush in Hibiscus',), ('Pageant Dress Slip',), ('New! VS Pink Bikini Top',), ('Bring me the horizon posters',)]\n",
      "The phrase is:\n",
      " has the same meaning as (also in another language) or is the same as. \n",
      "temp_string: Beauty/Makeup/Face\n",
      "temp_list: [('City color Be Matte Blush in Hibiscus',), ('Pageant Dress Slip',), ('New! VS Pink Bikini Top',), ('Bring me the horizon posters',)]\n",
      "The semantics dic is {\"WHERE mercari_data.name='Beauty/Makeup/Face'_comparison_Beauty/Makeup/Face\": {'Beauty/Makeup/Face': []}}\n",
      "An error occurred: syntax error at or near \"/\"\n",
      "LINE 1: DROP TABLE IF EXISTS WHEREmercari_datanameBeauty/Makeup/Face...\n",
      "                                                        ^\n",
      "\n",
      "The final prompt is Write an updated SQL query like this. Incorporate the additional tables as an intermediate output please. For negations change the != or <> to a = condtion.\n",
      "        Input: sql:SELECT * FROM vehicles INNER JOIN owners ON vehicles.owner_id = owners.id WHERE vehicles.color = 'red'; semantic_rows = [wherevehiclescolorred_table]\n",
      "        Output: SELECT * FROM vehicles \n",
      "        INNER JOIN owners ON vehicles.owner_id = owners.id \n",
      "        INNER JOIN wherevehiclescolorred_table ON wherevehiclescolorred_table.synonym = vehicles.color \n",
      "        WHERE wherevehiclescolorred_table.word = 'red';\n",
      "        Input: sql: SELECT * FROM employees INNER JOIN departments ON employees.dept_id = departments.id WHERE employees.job_title = 'engineer'; semantic_rows = [whereemployeesjobtitleengineer_table]\n",
      "        Output: SELECT * FROM employees \n",
      "        INNER JOIN departments ON employees.dept_id = departments.id \n",
      "        INNER JOIN whereemployeesjobtitleengineer_table ON whereemployeesjobtitleengineer_table.synonym = employees.job_title \n",
      "        WHERE whereemployeesjobtitleengineer_table.word = 'engineer';\n",
      "        Input: sql: SELECT * FROM students INNER JOIN classes ON students.class_id = classes.id WHERE students.grade != 'A'; semantic_rows = [wherestudentsgradeA_table]  \n",
      "        Output: SELECT * FROM students  \n",
      "        INNER JOIN classes ON students.class_id = classes.id  \n",
      "        INNER JOIN wherestudentsgradeA_table ON wherestudentsgradeA_table.synonym = students.grade  \n",
      "        WHERE wherestudentsgradeA_table.word = 'A';  \n",
      "        Input: sql:SELECT * FROM mercari_data WHERE mercari_data.name='Beauty/Makeup/Face'; semantic_rows: ['WHEREmercari_datanameBeauty/Makeup/Face_comparison_Beauty/Makeup/Face_table']\n",
      "        Output:\n",
      "The response is ```sql\n",
      "SELECT * FROM mercari_data\n",
      "INNER JOIN WHEREmercari_datanameBeauty/Makeup/Face_comparison_Beauty/Makeup/Face_table ON WHEREmercari_datanameBeauty/Makeup/Face_comparison_Beauty/Makeup/Face_table.synonym = mercari_data.name\n",
      "WHERE WHEREmercari_datanameBeauty/Makeup/Face_comparison_Beauty/Makeup/Face_table.word = 'Beauty/Makeup/Face';\n",
      "```\n",
      "\n",
      "{'prompt_token_count': 1094, 'candidates_token_count': 421, 'total_token_count': 1515, 'total_calls': 3}\n",
      "The output is None\n",
      "The metadata is {'prompt_token_count': 1094, 'candidates_token_count': 421, 'total_token_count': 1515, 'total_calls': 3}\n"
     ]
    }
   ],
   "source": [
    "pipeline_query=f\"SELECT * FROM mercari_data WHERE mercari_data.name='{unique_categories}'\"\n",
    "actual=combined_pipeline(query=None,initial_sql_query=pipeline_query,aux=True)"
   ]
  },
  {
   "cell_type": "code",
   "execution_count": null,
   "metadata": {},
   "outputs": [],
   "source": [
    "\n",
    "\n",
    "accuracy, precision, recall, f1_score = evaluate_results(data, temp_df)"
   ]
  }
 ],
 "metadata": {
  "kernelspec": {
   "display_name": "venv",
   "language": "python",
   "name": "python3"
  },
  "language_info": {
   "codemirror_mode": {
    "name": "ipython",
    "version": 3
   },
   "file_extension": ".py",
   "mimetype": "text/x-python",
   "name": "python",
   "nbconvert_exporter": "python",
   "pygments_lexer": "ipython3",
   "version": "3.12.3"
  }
 },
 "nbformat": 4,
 "nbformat_minor": 2
}
