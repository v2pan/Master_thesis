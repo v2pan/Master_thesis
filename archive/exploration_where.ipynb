{
 "cells": [
  {
   "cell_type": "markdown",
   "metadata": {},
   "source": [
    "This part explores the different approaches for evaluation the WHERE condition"
   ]
  },
  {
   "cell_type": "code",
   "execution_count": 1,
   "metadata": {},
   "outputs": [
    {
     "name": "stderr",
     "output_type": "stream",
     "text": [
      "/home/vlapan/Documents/Masterarbeit/Relational/venv/lib/python3.12/site-packages/tqdm/auto.py:21: TqdmWarning: IProgress not found. Please update jupyter and ipywidgets. See https://ipywidgets.readthedocs.io/en/stable/user_install.html\n",
      "  from .autonotebook import tqdm as notebook_tqdm\n"
     ]
    }
   ],
   "source": [
    "import pandas as pd\n",
    "import numpy as np\n",
    "from sklearn.feature_extraction.text import CountVectorizer\n",
    "from sklearn.model_selection import train_test_split\n",
    "from sklearn.naive_bayes import MultinomialNB\n",
    "from sklearn.metrics import accuracy_score\n",
    "from sklearn.metrics import classification_report\n",
    "from sklearn.metrics import f1_score\n",
    "from Main.combined_pipeline import combined_pipeline\n",
    "from Utilities.database import query_database\n",
    "from Evaluation.test_evaluation import evaluate_results"
   ]
  },
  {
   "cell_type": "code",
   "execution_count": 2,
   "metadata": {},
   "outputs": [],
   "source": [
    "def create_and_populate_table_two(dataframe, table_name):\n",
    "    try:\n",
    "        # Clean table name (optional)\n",
    "        table_name = table_name.replace(\" \", \"_\")\n",
    "\n",
    "        # Drop table if it exists\n",
    "        delete_table_query = f\"DROP TABLE IF EXISTS {table_name} CASCADE;\"\n",
    "        query_database(delete_table_query, printing=False)\n",
    "\n",
    "        # Convert all data to string format (since we're dealing with text data)\n",
    "        dataframe = dataframe.astype(str)\n",
    "\n",
    "        # Create table with two columns (for the two columns in the dataframe)\n",
    "        create_table_query = f\"CREATE TABLE IF NOT EXISTS {table_name} (category TEXT, items TEXT);\"\n",
    "        query_database(create_table_query, printing=False)\n",
    "        print(f\"Table '{table_name}' created successfully.\")\n",
    "\n",
    "        # Insert data into table\n",
    "        values = []\n",
    "        for _, row in dataframe.iterrows():\n",
    "            col1_value = row.iloc[0].replace(\"'\", \"''\")  # Escape single quotes for SQL\n",
    "            col2_value = row.iloc[1].replace(\"'\", \"''\")  # Escape single quotes for SQL\n",
    "            values.append(f\"('{col1_value}', '{col2_value}')\")  # Insert each row as a pair of column values\n",
    "\n",
    "        if values:\n",
    "            # Build the insert query\n",
    "            insert_query = f\"INSERT INTO {table_name} (category, items) VALUES {', '.join(values)};\"\n",
    "            query_database(insert_query, printing=False)\n",
    "            print(f\"Table '{table_name}' populated successfully.\")\n",
    "        else:\n",
    "            print(\"No data to insert.\")\n",
    "\n",
    "    except Exception as e:\n",
    "        print(f\"An error occurred: {e}\")"
   ]
  },
  {
   "cell_type": "code",
   "execution_count": 4,
   "metadata": {},
   "outputs": [
    {
     "data": {
      "application/vnd.microsoft.datawrangler.viewer.v0+json": {
       "columns": [
        {
         "name": "index",
         "rawType": "int64",
         "type": "integer"
        },
        {
         "name": "category",
         "rawType": "object",
         "type": "string"
        },
        {
         "name": "sub_category",
         "rawType": "object",
         "type": "string"
        },
        {
         "name": "href",
         "rawType": "object",
         "type": "string"
        },
        {
         "name": "items",
         "rawType": "object",
         "type": "unknown"
        },
        {
         "name": "price",
         "rawType": "float64",
         "type": "float"
        }
       ],
       "conversionMethod": "pd.DataFrame",
       "ref": "18f4bf6d-e523-4168-859f-53076333dd8d",
       "rows": [
        [
         "0",
         "Groceries",
         "Fruits & Vegetables",
         "https://www.jiomart.com/c/groceries/fruits-vegetables/fresh-fruits/220",
         "Fresh Dates (Pack) (Approx 450 g - 500 g)",
         "109.0"
        ],
        [
         "1",
         "Groceries",
         "Fruits & Vegetables",
         "https://www.jiomart.com/c/groceries/fruits-vegetables/fresh-fruits/220",
         "Tender Coconut Cling Wrapped (1 pc) (Approx 900 g - 1300 g)",
         "49.0"
        ],
        [
         "2",
         "Groceries",
         "Fruits & Vegetables",
         "https://www.jiomart.com/c/groceries/fruits-vegetables/fresh-fruits/220",
         "Mosambi 1 kg",
         "69.0"
        ],
        [
         "3",
         "Groceries",
         "Fruits & Vegetables",
         "https://www.jiomart.com/c/groceries/fruits-vegetables/fresh-fruits/220",
         "Orange Imported 1 kg",
         "125.0"
        ],
        [
         "4",
         "Groceries",
         "Fruits & Vegetables",
         "https://www.jiomart.com/c/groceries/fruits-vegetables/fresh-fruits/220",
         "Banana Robusta 6 pcs (Box) (Approx 800 g - 1100 g)",
         "44.0"
        ],
        [
         "5",
         "Groceries",
         "Fruits & Vegetables",
         "https://www.jiomart.com/c/groceries/fruits-vegetables/fresh-fruits/220",
         "Custard Apple 4 pcs (Approx 750 g - 1000 g)",
         "179.0"
        ],
        [
         "6",
         "Groceries",
         "Fruits & Vegetables",
         "https://www.jiomart.com/c/groceries/fruits-vegetables/fresh-fruits/220",
         "Pineapple Queen 1 pc (Approx 700 g - 1200 g)",
         "84.0"
        ],
        [
         "7",
         "Groceries",
         "Fruits & Vegetables",
         "https://www.jiomart.com/c/groceries/fruits-vegetables/fresh-fruits/220",
         "Dates Imported (Approx 400 g - 500 g)",
         "175.0"
        ],
        [
         "8",
         "Groceries",
         "Fruits & Vegetables",
         "https://www.jiomart.com/c/groceries/fruits-vegetables/fresh-fruits/220",
         "Watermelon Kiran Big 1 pc (Approx. 2800 g - 4000 g)",
         "45.0"
        ],
        [
         "9",
         "Groceries",
         "Fruits & Vegetables",
         "https://www.jiomart.com/c/groceries/fruits-vegetables/fresh-fruits/220",
         "Pear Green Indian 6 pcs (Approx 700 g - 1000 g)",
         "189.0"
        ],
        [
         "10",
         "Groceries",
         "Fruits & Vegetables",
         "https://www.jiomart.com/c/groceries/fruits-vegetables/fresh-fruits/220",
         "Mango Kesar 4 pcs Box (Approx 800 g-1200 g)",
         "159.0"
        ],
        [
         "11",
         "Groceries",
         "Fruits & Vegetables",
         "https://www.jiomart.com/c/groceries/fruits-vegetables/fresh-fruits/220",
         "Pomegranate Economy 6 pcs (Pack)",
         "159.0"
        ],
        [
         "12",
         "Groceries",
         "Fruits & Vegetables",
         "https://www.jiomart.com/c/groceries/fruits-vegetables/fresh-fruits/220",
         "Peach Indian 6 Pcs (Pack) (Approx 450 g - 500 g)",
         "99.0"
        ],
        [
         "13",
         "Groceries",
         "Fruits & Vegetables",
         "https://www.jiomart.com/c/groceries/fruits-vegetables/fresh-fruits/220",
         "Musk Melon 1 pc (Approx. 600 g - 900 g)",
         "49.0"
        ],
        [
         "14",
         "Groceries",
         "Fruits & Vegetables",
         "https://www.jiomart.com/c/groceries/fruits-vegetables/fresh-fruits/220",
         "Apple Red Delicious 4 pcs (Approx 550 g - 700 g)",
         "139.0"
        ],
        [
         "15",
         "Groceries",
         "Fruits & Vegetables",
         "https://www.jiomart.com/c/groceries/fruits-vegetables/fresh-fruits/220",
         "Tender Coconut 3 pcs",
         "144.0"
        ],
        [
         "16",
         "Groceries",
         "Fruits & Vegetables",
         "https://www.jiomart.com/c/groceries/fruits-vegetables/fresh-fruits/220",
         "Cherry Red (Pack) (Approx. 200 g - 250 g)",
         "109.0"
        ],
        [
         "17",
         "Groceries",
         "Fruits & Vegetables",
         "https://www.jiomart.com/c/groceries/fruits-vegetables/fresh-fruits/220",
         "Papaya (Each) (Approx. 800 g - 1600 g)",
         "45.0"
        ],
        [
         "18",
         "Groceries",
         "Fruits & Vegetables",
         "https://www.jiomart.com/c/groceries/fruits-vegetables/fresh-fruits/220",
         "Banana Yellaki 12 pcs (Approx 750 g - 1000 g)",
         "110.0"
        ],
        [
         "19",
         "Groceries",
         "Fruits & Vegetables",
         "https://www.jiomart.com/c/groceries/fruits-vegetables/fresh-fruits/220",
         "Mosambi 3 kg (Pack)",
         "209.0"
        ],
        [
         "20",
         "Groceries",
         "Fruits & Vegetables",
         "https://www.jiomart.com/c/groceries/fruits-vegetables/fresh-fruits/220",
         "Apple Royal Gala 4 pcs (Approx 500 g - 700 g)",
         "145.0"
        ],
        [
         "21",
         "Groceries",
         "Fruits & Vegetables",
         "https://www.jiomart.com/c/groceries/fruits-vegetables/fresh-fruits/220",
         "Pears Green Imported 3 pcs (Pack)",
         "89.0"
        ],
        [
         "22",
         "Groceries",
         "Fruits & Vegetables",
         "https://www.jiomart.com/c/groceries/fruits-vegetables/fresh-fruits/220",
         "Sweet Tamarind (Approx. 240 g - 260 g)",
         "129.0"
        ],
        [
         "23",
         "Groceries",
         "Fruits & Vegetables",
         "https://www.jiomart.com/c/groceries/fruits-vegetables/fresh-fruits/220",
         "Plum Indian 8 pcs (Approx. 350 g - 400 g)",
         "79.0"
        ],
        [
         "24",
         "Groceries",
         "Fruits & Vegetables",
         "https://www.jiomart.com/c/groceries/fruits-vegetables/fresh-fruits/220",
         "Pomegranate Kesar 4 pcs (Approx 800 g - 1000 g)",
         "229.0"
        ],
        [
         "25",
         "Groceries",
         "Fruits & Vegetables",
         "https://www.jiomart.com/c/groceries/fruits-vegetables/fresh-fruits/220",
         "Apple Granny Smith 4 pcs (Approx 450 g - 600 g)",
         "199.0"
        ],
        [
         "26",
         "Groceries",
         "Fruits & Vegetables",
         "https://www.jiomart.com/c/groceries/fruits-vegetables/fresh-fruits/220",
         "Mango Totapuri 4 pcs (Approx 1200 g-1400 g)",
         "119.0"
        ],
        [
         "27",
         "Groceries",
         "Fruits & Vegetables",
         "https://www.jiomart.com/c/groceries/fruits-vegetables/fresh-fruits/220",
         "Apple Fuji Pack 4 pcs (Approx 500 g - 700 g)",
         "169.0"
        ],
        [
         "28",
         "Groceries",
         "Fruits & Vegetables",
         "https://www.jiomart.com/c/groceries/fruits-vegetables/fresh-fruits/220",
         "Banana Nendran 4 pcs (Box) (Approx 800 g - 1200 g)",
         "119.0"
        ],
        [
         "29",
         "Groceries",
         "Fruits & Vegetables",
         "https://www.jiomart.com/c/groceries/fruits-vegetables/fresh-fruits/220",
         "Thai Guava 2 pcs (Approx. 550 g - 700 g)",
         "75.0"
        ],
        [
         "30",
         "Groceries",
         "Fruits & Vegetables",
         "https://www.jiomart.com/c/groceries/fruits-vegetables/fresh-fruits/220",
         "Banana Red (Box) (Approx 800 g - 1000 g)",
         "99.0"
        ],
        [
         "31",
         "Groceries",
         "Fruits & Vegetables",
         "https://www.jiomart.com/c/groceries/fruits-vegetables/fresh-fruits/220",
         "Kiwi Green Zespri 3 pcs (Pack) (Approx 240 g - 300 g)",
         "109.0"
        ],
        [
         "32",
         "Groceries",
         "Fruits & Vegetables",
         "https://www.jiomart.com/c/groceries/fruits-vegetables/fresh-fruits/220",
         "Avocado Indian 1 pc (Approx. 170 g - 250 g)",
         "179.0"
        ],
        [
         "33",
         "Groceries",
         "Fruits & Vegetables",
         "https://www.jiomart.com/c/groceries/fruits-vegetables/fresh-fruits/220",
         "Zespri Gold Kiwi 3 pcs (Pack) (Approx. 240 g - 300 g)",
         "179.0"
        ],
        [
         "34",
         "Groceries",
         "Fruits & Vegetables",
         "https://www.jiomart.com/c/groceries/fruits-vegetables/fresh-fruits/220",
         "Custard Apple 4 pcs (Approx 750 g - 1000 g)",
         "179.0"
        ],
        [
         "35",
         "Groceries",
         "Fruits & Vegetables",
         "https://www.jiomart.com/c/groceries/fruits-vegetables/fresh-fruits/220",
         "Pear Green Indian 6 pcs (Approx 700 g - 1000 g)",
         "189.0"
        ],
        [
         "36",
         "Groceries",
         "Fruits & Vegetables",
         "https://www.jiomart.com/c/groceries/fruits-vegetables/fresh-fruits/220",
         "Fresh Dates (Pack) (Approx 450 g - 500 g)",
         "109.0"
        ],
        [
         "37",
         "Groceries",
         "Fruits & Vegetables",
         "https://www.jiomart.com/c/groceries/fruits-vegetables/fresh-fruits/220",
         "Mango Dussheri 4 pcs (Approx 800 g - 1000 g)",
         "139.0"
        ],
        [
         "38",
         "Groceries",
         "Fruits & Vegetables",
         "https://www.jiomart.com/c/groceries/fruits-vegetables/fresh-fruits/220",
         "Mango Langda 4 pcs (Approx 800 g - 1000 g)",
         "139.0"
        ],
        [
         "39",
         "Groceries",
         "Fruits & Vegetables",
         "https://www.jiomart.com/c/groceries/fruits-vegetables/fresh-fruits/220",
         "Mango Neelam 4 pcs (Approx 800 g - 1000 g)",
         "129.0"
        ],
        [
         "40",
         "Groceries",
         "Fruits & Vegetables",
         "https://www.jiomart.com/c/groceries/fruits-vegetables/fresh-vegetables/229",
         "Coconut 1 pc (Approx 350 g - 600 g)",
         "29.0"
        ],
        [
         "41",
         "Groceries",
         "Fruits & Vegetables",
         "https://www.jiomart.com/c/groceries/fruits-vegetables/fresh-vegetables/229",
         "Lauki (Bottle Gourd) 1 kg",
         "36.0"
        ],
        [
         "42",
         "Groceries",
         "Fruits & Vegetables",
         "https://www.jiomart.com/c/groceries/fruits-vegetables/fresh-vegetables/229",
         "Sweet Corn 1 pc (Approx 250 g - 450 g)",
         "12.0"
        ],
        [
         "43",
         "Groceries",
         "Fruits & Vegetables",
         "https://www.jiomart.com/c/groceries/fruits-vegetables/fresh-vegetables/229",
         "Green Capsicum 500 g",
         "42.0"
        ],
        [
         "44",
         "Groceries",
         "Fruits & Vegetables",
         "https://www.jiomart.com/c/groceries/fruits-vegetables/fresh-vegetables/229",
         "Amla (Indian Gooseberry) 500 g",
         "49.5"
        ],
        [
         "45",
         "Groceries",
         "Fruits & Vegetables",
         "https://www.jiomart.com/c/groceries/fruits-vegetables/fresh-vegetables/229",
         "Onion 1 kg",
         "22.0"
        ],
        [
         "46",
         "Groceries",
         "Fruits & Vegetables",
         "https://www.jiomart.com/c/groceries/fruits-vegetables/fresh-vegetables/229",
         "Cucumber Regular 500 g",
         "29.5"
        ],
        [
         "47",
         "Groceries",
         "Fruits & Vegetables",
         "https://www.jiomart.com/c/groceries/fruits-vegetables/fresh-vegetables/229",
         "Bhendi (Okra) 500 g",
         "34.5"
        ],
        [
         "48",
         "Groceries",
         "Fruits & Vegetables",
         "https://www.jiomart.com/c/groceries/fruits-vegetables/fresh-vegetables/229",
         "Cauliflower 1 pc (Approx 600 g - 1000 g)",
         "29.0"
        ],
        [
         "49",
         "Groceries",
         "Fruits & Vegetables",
         "https://www.jiomart.com/c/groceries/fruits-vegetables/fresh-vegetables/229",
         "Brinjal Black Big 500 g",
         "17.0"
        ]
       ],
       "shape": {
        "columns": 5,
        "rows": 162313
       }
      },
      "text/html": [
       "<div>\n",
       "<style scoped>\n",
       "    .dataframe tbody tr th:only-of-type {\n",
       "        vertical-align: middle;\n",
       "    }\n",
       "\n",
       "    .dataframe tbody tr th {\n",
       "        vertical-align: top;\n",
       "    }\n",
       "\n",
       "    .dataframe thead th {\n",
       "        text-align: right;\n",
       "    }\n",
       "</style>\n",
       "<table border=\"1\" class=\"dataframe\">\n",
       "  <thead>\n",
       "    <tr style=\"text-align: right;\">\n",
       "      <th></th>\n",
       "      <th>category</th>\n",
       "      <th>sub_category</th>\n",
       "      <th>href</th>\n",
       "      <th>items</th>\n",
       "      <th>price</th>\n",
       "    </tr>\n",
       "  </thead>\n",
       "  <tbody>\n",
       "    <tr>\n",
       "      <th>0</th>\n",
       "      <td>Groceries</td>\n",
       "      <td>Fruits &amp; Vegetables</td>\n",
       "      <td>https://www.jiomart.com/c/groceries/fruits-veg...</td>\n",
       "      <td>Fresh Dates (Pack) (Approx 450 g - 500 g)</td>\n",
       "      <td>109.0</td>\n",
       "    </tr>\n",
       "    <tr>\n",
       "      <th>1</th>\n",
       "      <td>Groceries</td>\n",
       "      <td>Fruits &amp; Vegetables</td>\n",
       "      <td>https://www.jiomart.com/c/groceries/fruits-veg...</td>\n",
       "      <td>Tender Coconut Cling Wrapped (1 pc) (Approx 90...</td>\n",
       "      <td>49.0</td>\n",
       "    </tr>\n",
       "    <tr>\n",
       "      <th>2</th>\n",
       "      <td>Groceries</td>\n",
       "      <td>Fruits &amp; Vegetables</td>\n",
       "      <td>https://www.jiomart.com/c/groceries/fruits-veg...</td>\n",
       "      <td>Mosambi 1 kg</td>\n",
       "      <td>69.0</td>\n",
       "    </tr>\n",
       "    <tr>\n",
       "      <th>3</th>\n",
       "      <td>Groceries</td>\n",
       "      <td>Fruits &amp; Vegetables</td>\n",
       "      <td>https://www.jiomart.com/c/groceries/fruits-veg...</td>\n",
       "      <td>Orange Imported 1 kg</td>\n",
       "      <td>125.0</td>\n",
       "    </tr>\n",
       "    <tr>\n",
       "      <th>4</th>\n",
       "      <td>Groceries</td>\n",
       "      <td>Fruits &amp; Vegetables</td>\n",
       "      <td>https://www.jiomart.com/c/groceries/fruits-veg...</td>\n",
       "      <td>Banana Robusta 6 pcs (Box) (Approx 800 g - 110...</td>\n",
       "      <td>44.0</td>\n",
       "    </tr>\n",
       "    <tr>\n",
       "      <th>...</th>\n",
       "      <td>...</td>\n",
       "      <td>...</td>\n",
       "      <td>...</td>\n",
       "      <td>...</td>\n",
       "      <td>...</td>\n",
       "    </tr>\n",
       "    <tr>\n",
       "      <th>162308</th>\n",
       "      <td>Jewellery</td>\n",
       "      <td>Fine Jewellery</td>\n",
       "      <td>https://www.jiomart.com/c/jewellery/fine-jewel...</td>\n",
       "      <td>Reliance Jewels Ag 99.9 5.6 gm Ganesha Silver ...</td>\n",
       "      <td>1669.0</td>\n",
       "    </tr>\n",
       "    <tr>\n",
       "      <th>162309</th>\n",
       "      <td>Jewellery</td>\n",
       "      <td>Fine Jewellery</td>\n",
       "      <td>https://www.jiomart.com/c/jewellery/fine-jewel...</td>\n",
       "      <td>Reliance Jewels Ag 99.9 4.58 gm Ganesha Silver...</td>\n",
       "      <td>1391.0</td>\n",
       "    </tr>\n",
       "    <tr>\n",
       "      <th>162310</th>\n",
       "      <td>Jewellery</td>\n",
       "      <td>Fine Jewellery</td>\n",
       "      <td>https://www.jiomart.com/c/jewellery/fine-jewel...</td>\n",
       "      <td>Reliance Jewels Ag 99.9 2.31 gm Ganesha Silver...</td>\n",
       "      <td>834.0</td>\n",
       "    </tr>\n",
       "    <tr>\n",
       "      <th>162311</th>\n",
       "      <td>Jewellery</td>\n",
       "      <td>Fine Jewellery</td>\n",
       "      <td>https://www.jiomart.com/c/jewellery/fine-jewel...</td>\n",
       "      <td>Reliance Jewels Ag 99.9 7.76 gm Ganesha Silver...</td>\n",
       "      <td>2276.0</td>\n",
       "    </tr>\n",
       "    <tr>\n",
       "      <th>162312</th>\n",
       "      <td>Jewellery</td>\n",
       "      <td>Fine Jewellery</td>\n",
       "      <td>https://www.jiomart.com/c/jewellery/fine-jewel...</td>\n",
       "      <td>Reliance Jewels Ag 99.9 2.9 gm Balaji Silver Idol</td>\n",
       "      <td>834.0</td>\n",
       "    </tr>\n",
       "  </tbody>\n",
       "</table>\n",
       "<p>162313 rows × 5 columns</p>\n",
       "</div>"
      ],
      "text/plain": [
       "         category         sub_category  \\\n",
       "0       Groceries  Fruits & Vegetables   \n",
       "1       Groceries  Fruits & Vegetables   \n",
       "2       Groceries  Fruits & Vegetables   \n",
       "3       Groceries  Fruits & Vegetables   \n",
       "4       Groceries  Fruits & Vegetables   \n",
       "...           ...                  ...   \n",
       "162308  Jewellery       Fine Jewellery   \n",
       "162309  Jewellery       Fine Jewellery   \n",
       "162310  Jewellery       Fine Jewellery   \n",
       "162311  Jewellery       Fine Jewellery   \n",
       "162312  Jewellery       Fine Jewellery   \n",
       "\n",
       "                                                     href  \\\n",
       "0       https://www.jiomart.com/c/groceries/fruits-veg...   \n",
       "1       https://www.jiomart.com/c/groceries/fruits-veg...   \n",
       "2       https://www.jiomart.com/c/groceries/fruits-veg...   \n",
       "3       https://www.jiomart.com/c/groceries/fruits-veg...   \n",
       "4       https://www.jiomart.com/c/groceries/fruits-veg...   \n",
       "...                                                   ...   \n",
       "162308  https://www.jiomart.com/c/jewellery/fine-jewel...   \n",
       "162309  https://www.jiomart.com/c/jewellery/fine-jewel...   \n",
       "162310  https://www.jiomart.com/c/jewellery/fine-jewel...   \n",
       "162311  https://www.jiomart.com/c/jewellery/fine-jewel...   \n",
       "162312  https://www.jiomart.com/c/jewellery/fine-jewel...   \n",
       "\n",
       "                                                    items   price  \n",
       "0               Fresh Dates (Pack) (Approx 450 g - 500 g)   109.0  \n",
       "1       Tender Coconut Cling Wrapped (1 pc) (Approx 90...    49.0  \n",
       "2                                            Mosambi 1 kg    69.0  \n",
       "3                                    Orange Imported 1 kg   125.0  \n",
       "4       Banana Robusta 6 pcs (Box) (Approx 800 g - 110...    44.0  \n",
       "...                                                   ...     ...  \n",
       "162308  Reliance Jewels Ag 99.9 5.6 gm Ganesha Silver ...  1669.0  \n",
       "162309  Reliance Jewels Ag 99.9 4.58 gm Ganesha Silver...  1391.0  \n",
       "162310  Reliance Jewels Ag 99.9 2.31 gm Ganesha Silver...   834.0  \n",
       "162311  Reliance Jewels Ag 99.9 7.76 gm Ganesha Silver...  2276.0  \n",
       "162312  Reliance Jewels Ag 99.9 2.9 gm Balaji Silver Idol   834.0  \n",
       "\n",
       "[162313 rows x 5 columns]"
      ]
     },
     "execution_count": 4,
     "metadata": {},
     "output_type": "execute_result"
    }
   ],
   "source": [
    "# Load your DataFrame\n",
    "#item_df = pd.read_csv('WHERE_Evaluation/jio_smart_1000.csv')\n",
    "item_df = pd.read_csv('Data/jio_mart_items.csv')\n",
    "#item_df=item_df.iloc[0:20,:]\n",
    "item_df"
   ]
  },
  {
   "cell_type": "code",
   "execution_count": 40,
   "metadata": {},
   "outputs": [
    {
     "name": "stdout",
     "output_type": "stream",
     "text": [
      "Table 'jio_smart' created successfully.\n",
      "Table 'jio_smart' populated successfully.\n"
     ]
    }
   ],
   "source": [
    "create_and_populate_table_two(item_df.loc[:, ['category', 'items']], \"jio_smart\")"
   ]
  },
  {
   "cell_type": "code",
   "execution_count": 41,
   "metadata": {},
   "outputs": [],
   "source": [
    "def create_and_populate_table(dataframe, table_name):\n",
    "    try:\n",
    "        # Clean table name (optional)\n",
    "        table_name = table_name.replace(\" \", \"_\")\n",
    "\n",
    "        # Drop table if it exists\n",
    "        delete_table_query = f\"DROP TABLE IF EXISTS {table_name} CASCADE;\"\n",
    "        query_database(delete_table_query, printing=False)\n",
    "\n",
    "        # Convert all data to string format\n",
    "        dataframe = dataframe.astype(str)\n",
    "\n",
    "        # Create table with a single column\n",
    "        create_table_query = f\"CREATE TABLE IF NOT EXISTS {table_name} (Aggregate TEXT);\"\n",
    "        query_database(create_table_query, printing=False)\n",
    "        print(f\"Table '{table_name}' created successfully.\")\n",
    "\n",
    "        # Insert data into table\n",
    "        values = []\n",
    "        for _, row in dataframe.iterrows():\n",
    "            row_values = \"\\n\".join(row.astype(str))  # Concatenate row values with newline separator\n",
    "            values.append(f\"('{row_values.replace(\"'\", \"''\")}')\")  # Escape single quotes for SQL\n",
    "\n",
    "        if values:\n",
    "            insert_query = f\"INSERT INTO {table_name} VALUES {', '.join(values)};\"\n",
    "            query_database(insert_query, printing=False)\n",
    "            print(f\"Table '{table_name}' populated successfully.\")\n",
    "        else:\n",
    "            print(\"No data to insert.\")\n",
    "\n",
    "    except Exception as e:\n",
    "        print(f\"An error occurred: {e}\")"
   ]
  },
  {
   "cell_type": "code",
   "execution_count": 42,
   "metadata": {},
   "outputs": [],
   "source": [
    "\n",
    "\n",
    "# # Define the categories to exclude\n",
    "# exclude_categories = ['Home & Kitchen', 'Groceries']\n",
    "\n",
    "# item_df\n",
    "\n",
    "\n",
    "# # Filter the DataFrame\n",
    "# item_df_filtered = item_df[~item_df['category'].isin(exclude_categories)]\n",
    "\n",
    "# # Display the unique categories in the filtered DataFrame\n",
    "# print(item_df_filtered['category'].unique())\n",
    "\n",
    "# index=np.random.randint(0,high=len(item_df_filtered),size=1)[0]\n",
    "# index\n",
    "\n",
    "# item_df_filtered.iloc[index:index+2:]\n",
    "\n",
    "# item_df_filtered.shape\n",
    "\n",
    "# item_df_filtered=item_df_filtered.reset_index(drop=True)\n",
    "\n",
    "# # Ensure the dataframe has a fresh index\n",
    "# item_df_filtered = item_df_filtered.reset_index(drop=True)\n",
    "\n",
    "# # Set the number of rows to select and the number of categories\n",
    "# rows_to_select = 1000\n",
    "# categories = item_df_filtered['category'].unique()\n",
    "\n",
    "# # Calculate the max rows to sample per category\n",
    "# samples_per_category = rows_to_select // len(categories)\n",
    "\n",
    "# # List to store sampled rows\n",
    "# sampled_rows = []\n",
    "\n",
    "# # Sample rows from each category\n",
    "# for category in categories:\n",
    "#     category_rows = item_df_filtered[item_df_filtered['category'] == category]\n",
    "    \n",
    "#     # Adjust sample size to avoid over-sampling\n",
    "#     sample_size = min(samples_per_category, len(category_rows))\n",
    "    \n",
    "#     sampled_category_rows = category_rows.sample(n=sample_size, replace=False)\n",
    "#     sampled_rows.append(sampled_category_rows)\n",
    "\n",
    "# # Combine the sampled rows into a new dataframe\n",
    "# random_rows = pd.concat(sampled_rows)\n",
    "\n",
    "# # Shuffle the rows to ensure randomness\n",
    "# random_rows = random_rows.sample(frac=1).reset_index(drop=True)\n",
    "\n",
    "# # Write the selected rows to a CSV file\n",
    "# random_rows.to_csv('jio_smart_1000.csv', index=False)\n"
   ]
  },
  {
   "cell_type": "code",
   "execution_count": 43,
   "metadata": {},
   "outputs": [
    {
     "data": {
      "text/plain": [
       "array(['Beauty', 'Electronics'], dtype=object)"
      ]
     },
     "execution_count": 43,
     "metadata": {},
     "output_type": "execute_result"
    }
   ],
   "source": [
    "unique_categories = item_df['category'].unique()\n",
    "current_category = unique_categories[0]\n",
    "unique_categories "
   ]
  },
  {
   "cell_type": "code",
   "execution_count": 44,
   "metadata": {},
   "outputs": [],
   "source": [
    "ground_truth= query_database(f\"SELECT * FROM jio_smart WHERE category = '{current_category}'\",printing=False)\n",
    "\n",
    "# # Extract the numbers 1, 7, 10 from the tuples\n",
    "# extracted_numbers = [int(item[0].split(',')[1][:-1]) for item in ground_truth]\n",
    "\n",
    "# print(extracted_numbers)\n"
   ]
  },
  {
   "cell_type": "code",
   "execution_count": 45,
   "metadata": {},
   "outputs": [
    {
     "data": {
      "text/plain": [
       "[('Beauty', 'Flormar Quick Dry Nail Enamel QD20 Rose Taboo 11 ml')]"
      ]
     },
     "execution_count": 45,
     "metadata": {},
     "output_type": "execute_result"
    }
   ],
   "source": [
    "ground_truth"
   ]
  },
  {
   "cell_type": "code",
   "execution_count": 46,
   "metadata": {},
   "outputs": [],
   "source": [
    "# query = f\"SELECT * FROM jio_smart WHERE items = '{current_category}'\"\n",
    "# answer,metadata = combined_pipeline(query, aux=True)"
   ]
  },
  {
   "cell_type": "code",
   "execution_count": 47,
   "metadata": {},
   "outputs": [
    {
     "name": "stdout",
     "output_type": "stream",
     "text": [
      "[('Flormar Quick Dry Nail Enamel QD20 Rose Taboo 11 ml', 'Beauty')]\n"
     ]
    }
   ],
   "source": [
    "prompt=f\"SELECT items, category FROM jio_smart JOIN wherejio_smartitemsbeauty_comparison_beauty_table ON jio_smart.items = wherejio_smartitemsbeauty_comparison_beauty_table.synonym\"\n",
    "answer=query_database(prompt,printing=False)\n",
    "print(answer)"
   ]
  },
  {
   "cell_type": "code",
   "execution_count": 48,
   "metadata": {},
   "outputs": [
    {
     "data": {
      "text/plain": [
       "[('Flormar Quick Dry Nail Enamel QD20 Rose Taboo 11 ml', 'Beauty')]"
      ]
     },
     "execution_count": 48,
     "metadata": {},
     "output_type": "execute_result"
    }
   ],
   "source": [
    "answer"
   ]
  },
  {
   "cell_type": "code",
   "execution_count": 55,
   "metadata": {},
   "outputs": [
    {
     "name": "stdout",
     "output_type": "stream",
     "text": [
      "Accuracy: 1.0\n",
      "Precision: 1.0\n",
      "Recall: 1.0\n",
      "F1 Score: 1.0\n"
     ]
    }
   ],
   "source": [
    "accuracy, precision, recall, f1_score = evaluate_results(ground_truth, answer)\n",
    "print(f\"Accuracy: {accuracy}\")\n",
    "print(f\"Precision: {precision}\")\n",
    "print(f\"Recall: {recall}\")\n",
    "print(f\"F1 Score: {f1_score}\")"
   ]
  },
  {
   "cell_type": "code",
   "execution_count": 61,
   "metadata": {},
   "outputs": [],
   "source": [
    "def evaluate_results_metric(expected, actual):\n",
    "    \"\"\"\n",
    "    Evaluates classification results and calculates True Positives (TP),\n",
    "    False Positives (FP), False Negatives (FN), and True Negatives (TN).\n",
    "\n",
    "    Parameters:\n",
    "    - expected (set of tuples): Ground truth categories.\n",
    "    - actual (set of tuples): Predicted categories.\n",
    "\n",
    "    Returns:\n",
    "    - dict: A dictionary containing TP, FP, FN, TN counts.\n",
    "    \"\"\"\n",
    "    \n",
    "    # Handle None cases\n",
    "    if expected is None:\n",
    "        expected = set()\n",
    "    if actual is None:\n",
    "        actual = set()\n",
    "    \n",
    "    # Ensure the inputs are sets\n",
    "    if type(expected) != set:\n",
    "        expected = set(expected)\n",
    "    if type(actual) != set:\n",
    "        actual = set(actual)\n",
    "\n",
    "    # Convert tuples to frozensets for comparison\n",
    "    expected_frozensets = {frozenset(t) for t in expected}\n",
    "    actual_frozensets = {frozenset(t) for t in actual}\n",
    "\n",
    "    # Compute True Positives (TP) - correctly classified\n",
    "    tp = sum(any(actual >= expected for actual in actual_frozensets) for expected in expected_frozensets)\n",
    "\n",
    "    # Compute False Positives (FP) - incorrect extra classifications\n",
    "    fp = len([actual for actual in actual_frozensets if not any(actual >= expected for expected in expected_frozensets)])\n",
    "\n",
    "    # Compute False Negatives (FN) - missing expected classifications\n",
    "    fn = len(expected_frozensets - {expected for expected in expected_frozensets if any(actual >= expected for actual in actual_frozensets)})\n",
    "\n",
    "\n",
    "    return tp, fp, fn"
   ]
  },
  {
   "cell_type": "code",
   "execution_count": 64,
   "metadata": {},
   "outputs": [
    {
     "name": "stdout",
     "output_type": "stream",
     "text": [
      "True Positive: 1\n",
      "False Positives: 0\n",
      "False Negatives: 0\n"
     ]
    }
   ],
   "source": [
    "TP, FP,FN = evaluate_results_metric(ground_truth, answer)\n",
    "print(f\"True Positive: {TP}\")\n",
    "print(f\"False Positives: {FP}\")\n",
    "print(f\"False Negatives: {FN}\")"
   ]
  }
 ],
 "metadata": {
  "kernelspec": {
   "display_name": "venv",
   "language": "python",
   "name": "python3"
  },
  "language_info": {
   "codemirror_mode": {
    "name": "ipython",
    "version": 3
   },
   "file_extension": ".py",
   "mimetype": "text/x-python",
   "name": "python",
   "nbconvert_exporter": "python",
   "pygments_lexer": "ipython3",
   "version": "3.12.2"
  }
 },
 "nbformat": 4,
 "nbformat_minor": 2
}
