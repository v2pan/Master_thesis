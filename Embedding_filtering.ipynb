{
 "cells": [
  {
   "cell_type": "code",
   "execution_count": 4,
   "metadata": {},
   "outputs": [
    {
     "name": "stdout",
     "output_type": "stream",
     "text": [
      "The final answer to the query is [('vhs\\nx ambassadors\\n 2015 kidinakorner/interscope records\\n30-Jun-15\\nvhs outro (interlude)\\n1:25', 'vhs [explicit]\\nx ambassadors\\n (c) 2015 kidinakorner/interscope records\\n June 30, 2015\\nvhs outro (interlude) [explicit]\\n1:25'), ('vhs\\nx ambassadors\\n 2015 kidinakorner/interscope records\\n30-Jun-15\\nvhs outro (interlude)\\n1:25', 'vhs [explicit]\\nx ambassadors\\n (c) 2015 kidinakorner/interscope records\\n June 30, 2015\\nfirst show (interlude)\\n0:11'), ('vhs\\nx ambassadors\\n 2015 kidinakorner/interscope records\\n30-Jun-15\\nvhs outro (interlude)\\n1:25', 'vhs [explicit]\\nx ambassadors\\n (c) 2015 kidinakorner/interscope records\\n June 30, 2015\\nsmoke (interlude) [explicit]\\n0:24'), ('title (deluxe)\\nmeghan trainor\\n 2014, 2015 epic records, a division of sony music entertainment\\n9-Jan-15\\ncredit\\n2:51', 'title (deluxe)\\nmeghan trainor\\n 2011 what a music ltd, licence exclusive parlophone music france\\n January 9, 2015\\ncredit\\n2:51'), ('slow down (remixes)\\nselena gomez\\n 2013 hollywood records, inc.\\n20-Aug-13\\nslow down (smash mode remix)\\n5:21', 'slow down remixes\\nselena gomez\\n (c) 2013 hollywood records, inc.\\n August 20, 2013\\nslow down (smash mode remix)\\n5:21'), ('slow down (reggae remixes) - single\\nselena gomez\\n 2013 hollywood records, inc.\\n20-Aug-13\\nslow down (sure shot rockers reggae dub remix)\\n3:15', 'slow down remixes\\nselena gomez\\n (c) 2013 hollywood records, inc.\\n August 20, 2013\\nslow down (smash mode remix)\\n5:21')]\n"
     ]
    }
   ],
   "source": [
    "from Main.combined_pipeline import combined_pipeline\n",
    "from Utilities.database import query_database\n",
    "\n",
    "entities= query_database(\"SELECT * FROM left_tableaggregateright_tableaggregate_table;\")"
   ]
  },
  {
   "cell_type": "code",
   "execution_count": 17,
   "metadata": {},
   "outputs": [
    {
     "ename": "TypeError",
     "evalue": "'list' object cannot be interpreted as an integer",
     "output_type": "error",
     "traceback": [
      "\u001b[0;31m---------------------------------------------------------------------------\u001b[0m",
      "\u001b[0;31mTypeError\u001b[0m                                 Traceback (most recent call last)",
      "Cell \u001b[0;32mIn[17], line 1\u001b[0m\n\u001b[0;32m----> 1\u001b[0m \u001b[38;5;28;43mrange\u001b[39;49m\u001b[43m(\u001b[49m\u001b[43mentities\u001b[49m\u001b[43m)\u001b[49m\n",
      "\u001b[0;31mTypeError\u001b[0m: 'list' object cannot be interpreted as an integer"
     ]
    }
   ],
   "source": [
    "range(entities)"
   ]
  },
  {
   "cell_type": "code",
   "execution_count": 18,
   "metadata": {},
   "outputs": [
    {
     "name": "stdout",
     "output_type": "stream",
     "text": [
      "[[0.95126561]]\n",
      "[[0.92587008]]\n",
      "[[0.90121146]]\n",
      "[[0.95189667]]\n",
      "[[0.99090442]]\n",
      "[[0.91692409]]\n"
     ]
    }
   ],
   "source": [
    "from Utilities.llm import get_embedding\n",
    "from sklearn.metrics.pairwise import cosine_similarity\n",
    "import numpy as np\n",
    "for i in range(len(entities)):\n",
    "    emb1 = np.array(get_embedding(entities[i][0])).reshape(1, -1)\n",
    "    emb2 = np.array(get_embedding(entities[i][1])).reshape(1, -1)\n",
    "\n",
    "    print(cosine_similarity(emb1,emb2))\n"
   ]
  }
 ],
 "metadata": {
  "kernelspec": {
   "display_name": "venv",
   "language": "python",
   "name": "python3"
  },
  "language_info": {
   "codemirror_mode": {
    "name": "ipython",
    "version": 3
   },
   "file_extension": ".py",
   "mimetype": "text/x-python",
   "name": "python",
   "nbconvert_exporter": "python",
   "pygments_lexer": "ipython3",
   "version": "3.12.3"
  }
 },
 "nbformat": 4,
 "nbformat_minor": 2
}
