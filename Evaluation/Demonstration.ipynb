{
 "cells": [
  {
   "cell_type": "markdown",
   "metadata": {},
   "source": [
    "**This is a demonstration Notebook to showcase current progress**"
   ]
  },
  {
   "cell_type": "code",
   "execution_count": 33,
   "metadata": {},
   "outputs": [
    {
     "name": "stdout",
     "output_type": "stream",
     "text": [
      "/home/vlapan/Documents/Masterarbeit/Relational\n"
     ]
    }
   ],
   "source": [
    "# Change the working directory to the project root\n",
    "import os\n",
    "import io\n",
    "import sys\n",
    "project_root = \"/home/vlapan/Documents/Masterarbeit/Relational\"\n",
    "os.chdir(project_root)\n",
    "!pwd"
   ]
  },
  {
   "cell_type": "markdown",
   "metadata": {},
   "source": [
    "Here you can see all the intial test cases used in this project and used for evaluation and the calculation of the metrics"
   ]
  },
  {
   "cell_type": "code",
   "execution_count": 34,
   "metadata": {},
   "outputs": [
    {
     "data": {
      "text/plain": [
       "[('∃id ∃name ∃patients_pd (doctors(id, name, patients_pd) ∧ patients_pd < 12)',\n",
       "  {(1, 'Peter', 'ten'), (2, 'Giovanni', '11')}),\n",
       " (\"∃id ∃patients_pd (doctors(id, 'Peter', patients_pd) ∧ patients_pd < 12)\",\n",
       "  {(1, 'Peter', 'ten')}),\n",
       " (\"∃id ∃shares ∃name (shareowner1row(id, name, shares) ∧ animalowner1row(id, _, 'dog'))\",\n",
       "  {(1, 'Pierre', 20, 1, 'bill', 'chien')}),\n",
       " (\"∃id ∃shares ∃name (shareowner(id, name, shares) ∧ animalowner(id, _, 'dog'))\",\n",
       "  {(1, 'Pierre', 20, 1, 'bill', 'chien'),\n",
       "   (3, 'Diego', 15, 3, 'chris', 'dog'),\n",
       "   (4, 'Marcel', 11, 4, 'juan', 'perro')}),\n",
       " (\"∃id ∃shares ∃name(shareowner(id, name, shares) ∧ ¬animalowner(id, _, 'dog'))\",\n",
       "  {(2, 'Vladi', 10, 2, 'diego', 'chat')}),\n",
       " ('∃x ∃y ∃z (children_table(x, y) ∧ fathers(x, z))',\n",
       "  {(0, '4', 'zero', 'Gerhard'),\n",
       "   (1, '1', 'one', 'Joachim'),\n",
       "   (2, 'many', 'two', 'Dieter')}),\n",
       " ('∃id (children_table(id, ) ∧ fathers(id, _) ∧ mothers(id, _) )',\n",
       "  {(1, '1', 'one', 'Joachim', 1, 'Julia'),\n",
       "   (2, 'many', 'two', 'Dieter', 2, 'Petra')}),\n",
       " (\"∃id (tennis_players(id, _, 'January') ∧ tournaments(id, name, price_money))\",\n",
       "  {(3, 'Xi', 'January 1986', 3, 'Osaka Open', 0.5),\n",
       "   (3, 'Xi', 'January 1986', 3, 'Warsaw Open', 3.0),\n",
       "   (4, 'Michael', '18.01.1997', 4, 'Berlin Open', 4.0)}),\n",
       " ('∃m ∃f ∃i (influencers(m, f) ∧ f > 500 ∧ followers(i, m, z))',\n",
       "  {('makeuptutorial', '1000 thousand', 3, 'makeuptutorial', False),\n",
       "   ('princess', 'one thousand', 3, 'princess', True),\n",
       "   ('surviver1000', '1 million', 1, 'surviver1000', True),\n",
       "   ('surviver1000', '1 million', 2, 'surviver1000', True)}),\n",
       " ('∃id (children_table(id, >1) ∧ fathers(id, _))',\n",
       "  {(0, '4', 'zero', 'Gerhard'), (2, 'many', 'two', 'Dieter')}),\n",
       " ('ARTISTS(a,,), ALBUMS(,a,\"Reputation\",2017),SONGS(,a2,song_name,),ALBUMS(a2,a,)',\n",
       "  {(1,\n",
       "    1,\n",
       "    'Reputation',\n",
       "    '2017',\n",
       "    1,\n",
       "    'Taylor Swift',\n",
       "    'English',\n",
       "    1,\n",
       "    1,\n",
       "    'Delicate',\n",
       "    '3:52'),\n",
       "   (2,\n",
       "    2,\n",
       "    'Reputation',\n",
       "    '2017',\n",
       "    2,\n",
       "    'Reputation Artist',\n",
       "    'English',\n",
       "    2,\n",
       "    2,\n",
       "    'New Year’s Day',\n",
       "    '3:55')}),\n",
       " ('∃date weather(date, city, temperature, rainfall) ∧ website_visits(date, page, visits)',\n",
       "  {('2023 10 26', 'London', 12, 0, '2023 October 26', 'about', 500),\n",
       "   ('2023 10 26', 'London', 12, 0, '2023 October 26', 'homepage', 1000),\n",
       "   ('2023 10 26', 'New York', 15, 2, '2023 October 26', 'about', 500),\n",
       "   ('2023 10 26', 'New York', 15, 2, '2023 October 26', 'homepage', 1000),\n",
       "   ('2023 10 27', 'London', 10, 5, '2023 October 27', 'contact', 200),\n",
       "   ('2023 10 27', 'London', 10, 5, '2023 October 27', 'homepage', 1200),\n",
       "   ('2023 10 27', 'New York', 13, 1, '2023 October 27', 'contact', 200),\n",
       "   ('2023 10 27', 'New York', 13, 1, '2023 October 27', 'homepage', 1200)}),\n",
       " ('∃item bakery_sales(item,_,_) ∧ oven_temperature(item, >200 °C)',\n",
       "  {('Baguettes', '400 °F', '8 dozen', '10.00 per dozen')}),\n",
       " ('∃item bakery_sales(item,quantity < 55,_) ∧ oven_temperature(item,_)',\n",
       "  {('Pain au Chocolat', '3 dozen', '15.00 per dozen', '200 °F')}),\n",
       " ('∃item bakery_sales(item, > 90,_) ∧ oven_temperature(item, >180 °C)',\n",
       "  {('Baguettes', '400 °F', '8 dozen', '10.00 per dozen')}),\n",
       " ('∃movie movies(movie,_, _) ∧ movies_personal(movie, _)',\n",
       "  {('Amélie', 'comedy', '5/5', 'Die fabelhafte Welt der Amélie', '4/5'),\n",
       "   ('The Shawshank Redemption',\n",
       "    'thriller',\n",
       "    '3/5',\n",
       "    'Die Flucht aus Shawshank',\n",
       "    '3/5'),\n",
       "   ('Wings of Desire', 'fantasy', '4/5', 'Der Himmel über Berlin', '5/5')}),\n",
       " ('∃movie movies(movie,_, _) ∧ movies_personal(movie, >70%)',\n",
       "  {('Amélie', 'comedy', '5/5', 'Die fabelhafte Welt der Amélie', '4/5'),\n",
       "   ('Wings of Desire', 'fantasy', '4/5', 'Der Himmel über Berlin', '5/5')}),\n",
       " ('∃ movies(\"The sky over Berlin\",_,_)',\n",
       "  {('Wings of Desire', 'fantasy', '4/5')}),\n",
       " ('∃clicks influencers( _ , clicks) ∧ publication_clicks(_ , clicks)',\n",
       "  {('makeuptutorial', '1000 thousand', '17.01.2011', '1000000'),\n",
       "   ('princess', 'one thousand', '24.12.2022', '1000'),\n",
       "   ('surviver1000', '1 million', '17.01.2011', '1000000')})]"
      ]
     },
     "execution_count": 34,
     "metadata": {},
     "output_type": "execute_result"
    }
   ],
   "source": [
    "from Evaluation.test_evaluation import evaluation_pipeline\n",
    "from Evaluation.evaluation import test_cases\n",
    "\n",
    "RUNS=3\n",
    "queries= [i for i, _ in test_cases]\n",
    "answers= [i for _ , i in test_cases]\n",
    "test_cases\n"
   ]
  },
  {
   "cell_type": "code",
   "execution_count": 35,
   "metadata": {},
   "outputs": [
    {
     "name": "stdout",
     "output_type": "stream",
     "text": [
      "The relevant tables are ['doctors']\n",
      "The context is The name of the table is doctors\n",
      "\n",
      "Columns in the table doctors (in correct order):\n",
      "id\n",
      "name\n",
      "patients_pd\n",
      "\n",
      "Schema Information:\n",
      "[('id', 'NO', 'integer', 'PRIMARY KEY'), ('name', 'YES', 'text', None), ('patients_pd', 'YES', 'text', None)]\n",
      "\n",
      "The query is ∃id ∃name ∃patients_pd (doctors(id, name, patients_pd) ∧ patients_pd < 12)\n",
      "The SQL query is: SELECT * \n",
      "FROM doctors\n",
      "WHERE doctors.patients_pd < 12;\n",
      "--------------------------------------\n",
      "The \n",
      "”SELECT * \n",
      "FROM doctors\n",
      "WHERE doctors.patients_pd < 12;\n",
      " has a WHERE clause.\n",
      "<bound method TokenList.get_name of <Where 'WHERE ...' at 0x72A5540611D0>>\n",
      "The final answer to the query is [('fourty',), ('44',), ('ten',), ('150',), ('11',)]\n",
      "The phrase is:\n",
      " is smaller than\n",
      ". \n",
      "temp_string: 12\n",
      "temp_list: [('fourty',), ('44',), ('ten',), ('150',), ('11',)]\n",
      "Time exception has occured\n"
     ]
    },
    {
     "ename": "RessourceError",
     "evalue": "API rate limit exceeded!",
     "output_type": "error",
     "traceback": [
      "\u001b[0;31m---------------------------------------------------------------------------\u001b[0m",
      "\u001b[0;31mResourceExhausted\u001b[0m                         Traceback (most recent call last)",
      "File \u001b[0;32m~/Documents/Masterarbeit/Relational/Utilities/llm.py:50\u001b[0m, in \u001b[0;36mask_llm\u001b[0;34m(prompt, return_metadata, temp, max_token, model)\u001b[0m\n\u001b[1;32m     49\u001b[0m \u001b[38;5;28;01mtry\u001b[39;00m:\n\u001b[0;32m---> 50\u001b[0m     result \u001b[38;5;241m=\u001b[39m \u001b[43mmodel\u001b[49m\u001b[38;5;241;43m.\u001b[39;49m\u001b[43mgenerate_content\u001b[49m\u001b[43m(\u001b[49m\u001b[43mcontents\u001b[49m\u001b[38;5;241;43m=\u001b[39;49m\u001b[43mprompt\u001b[49m\u001b[43m,\u001b[49m\n\u001b[1;32m     51\u001b[0m \u001b[43m    \u001b[49m\u001b[43mgeneration_config\u001b[49m\u001b[38;5;241;43m=\u001b[39;49m\u001b[43mgenai\u001b[49m\u001b[38;5;241;43m.\u001b[39;49m\u001b[43mtypes\u001b[49m\u001b[38;5;241;43m.\u001b[39;49m\u001b[43mGenerationConfig\u001b[49m\u001b[43m(\u001b[49m\n\u001b[1;32m     52\u001b[0m \u001b[43m    \u001b[49m\u001b[38;5;66;43;03m# Only one candidate for now.\u001b[39;49;00m\n\u001b[1;32m     53\u001b[0m \u001b[43m    \u001b[49m\u001b[43mmax_output_tokens\u001b[49m\u001b[38;5;241;43m=\u001b[39;49m\u001b[43mmax_token\u001b[49m\u001b[43m,\u001b[49m\n\u001b[1;32m     54\u001b[0m \u001b[43m    \u001b[49m\u001b[43mtemperature\u001b[49m\u001b[38;5;241;43m=\u001b[39;49m\u001b[43mtemp\u001b[49m\u001b[43m,\u001b[49m\n\u001b[1;32m     55\u001b[0m \u001b[43m\u001b[49m\u001b[43m)\u001b[49m\u001b[43m,\u001b[49m\u001b[43m)\u001b[49m\n\u001b[1;32m     56\u001b[0m \u001b[38;5;28;01mexcept\u001b[39;00m ResourceExhausted \u001b[38;5;28;01mas\u001b[39;00m e:\n",
      "File \u001b[0;32m~/Documents/Masterarbeit/Relational/venv/lib/python3.12/site-packages/google/generativeai/generative_models.py:331\u001b[0m, in \u001b[0;36mGenerativeModel.generate_content\u001b[0;34m(self, contents, generation_config, safety_settings, stream, tools, tool_config, request_options)\u001b[0m\n\u001b[1;32m    330\u001b[0m \u001b[38;5;28;01melse\u001b[39;00m:\n\u001b[0;32m--> 331\u001b[0m     response \u001b[38;5;241m=\u001b[39m \u001b[38;5;28;43mself\u001b[39;49m\u001b[38;5;241;43m.\u001b[39;49m\u001b[43m_client\u001b[49m\u001b[38;5;241;43m.\u001b[39;49m\u001b[43mgenerate_content\u001b[49m\u001b[43m(\u001b[49m\n\u001b[1;32m    332\u001b[0m \u001b[43m        \u001b[49m\u001b[43mrequest\u001b[49m\u001b[43m,\u001b[49m\n\u001b[1;32m    333\u001b[0m \u001b[43m        \u001b[49m\u001b[38;5;241;43m*\u001b[39;49m\u001b[38;5;241;43m*\u001b[39;49m\u001b[43mrequest_options\u001b[49m\u001b[43m,\u001b[49m\n\u001b[1;32m    334\u001b[0m \u001b[43m    \u001b[49m\u001b[43m)\u001b[49m\n\u001b[1;32m    335\u001b[0m     \u001b[38;5;28;01mreturn\u001b[39;00m generation_types\u001b[38;5;241m.\u001b[39mGenerateContentResponse\u001b[38;5;241m.\u001b[39mfrom_response(response)\n",
      "File \u001b[0;32m~/Documents/Masterarbeit/Relational/venv/lib/python3.12/site-packages/google/ai/generativelanguage_v1beta/services/generative_service/client.py:830\u001b[0m, in \u001b[0;36mGenerativeServiceClient.generate_content\u001b[0;34m(self, request, model, contents, retry, timeout, metadata)\u001b[0m\n\u001b[1;32m    829\u001b[0m \u001b[38;5;66;03m# Send the request.\u001b[39;00m\n\u001b[0;32m--> 830\u001b[0m response \u001b[38;5;241m=\u001b[39m \u001b[43mrpc\u001b[49m\u001b[43m(\u001b[49m\n\u001b[1;32m    831\u001b[0m \u001b[43m    \u001b[49m\u001b[43mrequest\u001b[49m\u001b[43m,\u001b[49m\n\u001b[1;32m    832\u001b[0m \u001b[43m    \u001b[49m\u001b[43mretry\u001b[49m\u001b[38;5;241;43m=\u001b[39;49m\u001b[43mretry\u001b[49m\u001b[43m,\u001b[49m\n\u001b[1;32m    833\u001b[0m \u001b[43m    \u001b[49m\u001b[43mtimeout\u001b[49m\u001b[38;5;241;43m=\u001b[39;49m\u001b[43mtimeout\u001b[49m\u001b[43m,\u001b[49m\n\u001b[1;32m    834\u001b[0m \u001b[43m    \u001b[49m\u001b[43mmetadata\u001b[49m\u001b[38;5;241;43m=\u001b[39;49m\u001b[43mmetadata\u001b[49m\u001b[43m,\u001b[49m\n\u001b[1;32m    835\u001b[0m \u001b[43m\u001b[49m\u001b[43m)\u001b[49m\n\u001b[1;32m    837\u001b[0m \u001b[38;5;66;03m# Done; return the response.\u001b[39;00m\n",
      "File \u001b[0;32m~/Documents/Masterarbeit/Relational/venv/lib/python3.12/site-packages/google/api_core/gapic_v1/method.py:131\u001b[0m, in \u001b[0;36m_GapicCallable.__call__\u001b[0;34m(self, timeout, retry, compression, *args, **kwargs)\u001b[0m\n\u001b[1;32m    129\u001b[0m     kwargs[\u001b[38;5;124m\"\u001b[39m\u001b[38;5;124mcompression\u001b[39m\u001b[38;5;124m\"\u001b[39m] \u001b[38;5;241m=\u001b[39m compression\n\u001b[0;32m--> 131\u001b[0m \u001b[38;5;28;01mreturn\u001b[39;00m \u001b[43mwrapped_func\u001b[49m\u001b[43m(\u001b[49m\u001b[38;5;241;43m*\u001b[39;49m\u001b[43margs\u001b[49m\u001b[43m,\u001b[49m\u001b[43m \u001b[49m\u001b[38;5;241;43m*\u001b[39;49m\u001b[38;5;241;43m*\u001b[39;49m\u001b[43mkwargs\u001b[49m\u001b[43m)\u001b[49m\n",
      "File \u001b[0;32m~/Documents/Masterarbeit/Relational/venv/lib/python3.12/site-packages/google/api_core/retry/retry_unary.py:293\u001b[0m, in \u001b[0;36mRetry.__call__.<locals>.retry_wrapped_func\u001b[0;34m(*args, **kwargs)\u001b[0m\n\u001b[1;32m    290\u001b[0m sleep_generator \u001b[38;5;241m=\u001b[39m exponential_sleep_generator(\n\u001b[1;32m    291\u001b[0m     \u001b[38;5;28mself\u001b[39m\u001b[38;5;241m.\u001b[39m_initial, \u001b[38;5;28mself\u001b[39m\u001b[38;5;241m.\u001b[39m_maximum, multiplier\u001b[38;5;241m=\u001b[39m\u001b[38;5;28mself\u001b[39m\u001b[38;5;241m.\u001b[39m_multiplier\n\u001b[1;32m    292\u001b[0m )\n\u001b[0;32m--> 293\u001b[0m \u001b[38;5;28;01mreturn\u001b[39;00m \u001b[43mretry_target\u001b[49m\u001b[43m(\u001b[49m\n\u001b[1;32m    294\u001b[0m \u001b[43m    \u001b[49m\u001b[43mtarget\u001b[49m\u001b[43m,\u001b[49m\n\u001b[1;32m    295\u001b[0m \u001b[43m    \u001b[49m\u001b[38;5;28;43mself\u001b[39;49m\u001b[38;5;241;43m.\u001b[39;49m\u001b[43m_predicate\u001b[49m\u001b[43m,\u001b[49m\n\u001b[1;32m    296\u001b[0m \u001b[43m    \u001b[49m\u001b[43msleep_generator\u001b[49m\u001b[43m,\u001b[49m\n\u001b[1;32m    297\u001b[0m \u001b[43m    \u001b[49m\u001b[43mtimeout\u001b[49m\u001b[38;5;241;43m=\u001b[39;49m\u001b[38;5;28;43mself\u001b[39;49m\u001b[38;5;241;43m.\u001b[39;49m\u001b[43m_timeout\u001b[49m\u001b[43m,\u001b[49m\n\u001b[1;32m    298\u001b[0m \u001b[43m    \u001b[49m\u001b[43mon_error\u001b[49m\u001b[38;5;241;43m=\u001b[39;49m\u001b[43mon_error\u001b[49m\u001b[43m,\u001b[49m\n\u001b[1;32m    299\u001b[0m \u001b[43m\u001b[49m\u001b[43m)\u001b[49m\n",
      "File \u001b[0;32m~/Documents/Masterarbeit/Relational/venv/lib/python3.12/site-packages/google/api_core/retry/retry_unary.py:153\u001b[0m, in \u001b[0;36mretry_target\u001b[0;34m(target, predicate, sleep_generator, timeout, on_error, exception_factory, **kwargs)\u001b[0m\n\u001b[1;32m    151\u001b[0m \u001b[38;5;28;01mexcept\u001b[39;00m \u001b[38;5;167;01mException\u001b[39;00m \u001b[38;5;28;01mas\u001b[39;00m exc:\n\u001b[1;32m    152\u001b[0m     \u001b[38;5;66;03m# defer to shared logic for handling errors\u001b[39;00m\n\u001b[0;32m--> 153\u001b[0m     \u001b[43m_retry_error_helper\u001b[49m\u001b[43m(\u001b[49m\n\u001b[1;32m    154\u001b[0m \u001b[43m        \u001b[49m\u001b[43mexc\u001b[49m\u001b[43m,\u001b[49m\n\u001b[1;32m    155\u001b[0m \u001b[43m        \u001b[49m\u001b[43mdeadline\u001b[49m\u001b[43m,\u001b[49m\n\u001b[1;32m    156\u001b[0m \u001b[43m        \u001b[49m\u001b[43msleep\u001b[49m\u001b[43m,\u001b[49m\n\u001b[1;32m    157\u001b[0m \u001b[43m        \u001b[49m\u001b[43merror_list\u001b[49m\u001b[43m,\u001b[49m\n\u001b[1;32m    158\u001b[0m \u001b[43m        \u001b[49m\u001b[43mpredicate\u001b[49m\u001b[43m,\u001b[49m\n\u001b[1;32m    159\u001b[0m \u001b[43m        \u001b[49m\u001b[43mon_error\u001b[49m\u001b[43m,\u001b[49m\n\u001b[1;32m    160\u001b[0m \u001b[43m        \u001b[49m\u001b[43mexception_factory\u001b[49m\u001b[43m,\u001b[49m\n\u001b[1;32m    161\u001b[0m \u001b[43m        \u001b[49m\u001b[43mtimeout\u001b[49m\u001b[43m,\u001b[49m\n\u001b[1;32m    162\u001b[0m \u001b[43m    \u001b[49m\u001b[43m)\u001b[49m\n\u001b[1;32m    163\u001b[0m     \u001b[38;5;66;03m# if exception not raised, sleep before next attempt\u001b[39;00m\n",
      "File \u001b[0;32m~/Documents/Masterarbeit/Relational/venv/lib/python3.12/site-packages/google/api_core/retry/retry_base.py:212\u001b[0m, in \u001b[0;36m_retry_error_helper\u001b[0;34m(exc, deadline, next_sleep, error_list, predicate_fn, on_error_fn, exc_factory_fn, original_timeout)\u001b[0m\n\u001b[1;32m    207\u001b[0m     final_exc, source_exc \u001b[38;5;241m=\u001b[39m exc_factory_fn(\n\u001b[1;32m    208\u001b[0m         error_list,\n\u001b[1;32m    209\u001b[0m         RetryFailureReason\u001b[38;5;241m.\u001b[39mNON_RETRYABLE_ERROR,\n\u001b[1;32m    210\u001b[0m         original_timeout,\n\u001b[1;32m    211\u001b[0m     )\n\u001b[0;32m--> 212\u001b[0m     \u001b[38;5;28;01mraise\u001b[39;00m final_exc \u001b[38;5;28;01mfrom\u001b[39;00m\u001b[38;5;250m \u001b[39m\u001b[38;5;21;01msource_exc\u001b[39;00m\n\u001b[1;32m    213\u001b[0m \u001b[38;5;28;01mif\u001b[39;00m on_error_fn \u001b[38;5;129;01mis\u001b[39;00m \u001b[38;5;129;01mnot\u001b[39;00m \u001b[38;5;28;01mNone\u001b[39;00m:\n",
      "File \u001b[0;32m~/Documents/Masterarbeit/Relational/venv/lib/python3.12/site-packages/google/api_core/retry/retry_unary.py:144\u001b[0m, in \u001b[0;36mretry_target\u001b[0;34m(target, predicate, sleep_generator, timeout, on_error, exception_factory, **kwargs)\u001b[0m\n\u001b[1;32m    143\u001b[0m \u001b[38;5;28;01mtry\u001b[39;00m:\n\u001b[0;32m--> 144\u001b[0m     result \u001b[38;5;241m=\u001b[39m \u001b[43mtarget\u001b[49m\u001b[43m(\u001b[49m\u001b[43m)\u001b[49m\n\u001b[1;32m    145\u001b[0m     \u001b[38;5;28;01mif\u001b[39;00m inspect\u001b[38;5;241m.\u001b[39misawaitable(result):\n",
      "File \u001b[0;32m~/Documents/Masterarbeit/Relational/venv/lib/python3.12/site-packages/google/api_core/timeout.py:120\u001b[0m, in \u001b[0;36mTimeToDeadlineTimeout.__call__.<locals>.func_with_timeout\u001b[0;34m(*args, **kwargs)\u001b[0m\n\u001b[1;32m    118\u001b[0m     kwargs[\u001b[38;5;124m\"\u001b[39m\u001b[38;5;124mtimeout\u001b[39m\u001b[38;5;124m\"\u001b[39m] \u001b[38;5;241m=\u001b[39m \u001b[38;5;28mmax\u001b[39m(\u001b[38;5;241m0\u001b[39m, \u001b[38;5;28mself\u001b[39m\u001b[38;5;241m.\u001b[39m_timeout \u001b[38;5;241m-\u001b[39m time_since_first_attempt)\n\u001b[0;32m--> 120\u001b[0m \u001b[38;5;28;01mreturn\u001b[39;00m \u001b[43mfunc\u001b[49m\u001b[43m(\u001b[49m\u001b[38;5;241;43m*\u001b[39;49m\u001b[43margs\u001b[49m\u001b[43m,\u001b[49m\u001b[43m \u001b[49m\u001b[38;5;241;43m*\u001b[39;49m\u001b[38;5;241;43m*\u001b[39;49m\u001b[43mkwargs\u001b[49m\u001b[43m)\u001b[49m\n",
      "File \u001b[0;32m~/Documents/Masterarbeit/Relational/venv/lib/python3.12/site-packages/google/api_core/grpc_helpers.py:78\u001b[0m, in \u001b[0;36m_wrap_unary_errors.<locals>.error_remapped_callable\u001b[0;34m(*args, **kwargs)\u001b[0m\n\u001b[1;32m     77\u001b[0m \u001b[38;5;28;01mexcept\u001b[39;00m grpc\u001b[38;5;241m.\u001b[39mRpcError \u001b[38;5;28;01mas\u001b[39;00m exc:\n\u001b[0;32m---> 78\u001b[0m     \u001b[38;5;28;01mraise\u001b[39;00m exceptions\u001b[38;5;241m.\u001b[39mfrom_grpc_error(exc) \u001b[38;5;28;01mfrom\u001b[39;00m\u001b[38;5;250m \u001b[39m\u001b[38;5;21;01mexc\u001b[39;00m\n",
      "\u001b[0;31mResourceExhausted\u001b[0m: 429 Resource has been exhausted (e.g. check quota).",
      "\nDuring handling of the above exception, another exception occurred:\n",
      "\u001b[0;31mRessourceError\u001b[0m                            Traceback (most recent call last)",
      "Cell \u001b[0;32mIn[35], line 4\u001b[0m\n\u001b[1;32m      2\u001b[0m \u001b[38;5;28;01mfrom\u001b[39;00m\u001b[38;5;250m \u001b[39m\u001b[38;5;21;01mEvaluation\u001b[39;00m\u001b[38;5;21;01m.\u001b[39;00m\u001b[38;5;21;01mtest_evaluation\u001b[39;00m\u001b[38;5;250m \u001b[39m\u001b[38;5;28;01mimport\u001b[39;00m evaluate_results\n\u001b[1;32m      3\u001b[0m index\u001b[38;5;241m=\u001b[39m\u001b[38;5;241m0\u001b[39m\n\u001b[0;32m----> 4\u001b[0m initial_sql_query_join, semantic_list_join, result_join, initial_sql_query_where, semantic_list_where, result_where, result, tmp_metadata \u001b[38;5;241m=\u001b[39m\u001b[43mcombined_pipeline\u001b[49m\u001b[43m(\u001b[49m\u001b[43mquery\u001b[49m\u001b[38;5;241;43m=\u001b[39;49m\u001b[43mqueries\u001b[49m\u001b[43m[\u001b[49m\u001b[43mindex\u001b[49m\u001b[43m]\u001b[49m\u001b[43m,\u001b[49m\u001b[43m \u001b[49m\u001b[43mevaluation\u001b[49m\u001b[38;5;241;43m=\u001b[39;49m\u001b[38;5;28;43;01mTrue\u001b[39;49;00m\u001b[43m)\u001b[49m\n",
      "File \u001b[0;32m~/Documents/Masterarbeit/Relational/Main/combined_pipeline.py:178\u001b[0m, in \u001b[0;36mcombined_pipeline\u001b[0;34m(query, evaluation)\u001b[0m\n\u001b[1;32m    176\u001b[0m \u001b[38;5;28;01melif\u001b[39;00m where_conditions:\n\u001b[1;32m    177\u001b[0m     \u001b[38;5;28mprint\u001b[39m(\u001b[38;5;124mf\u001b[39m\u001b[38;5;124m\"\u001b[39m\u001b[38;5;124mThe \u001b[39m\u001b[38;5;130;01m\\n\u001b[39;00m\u001b[38;5;124m”\u001b[39m\u001b[38;5;132;01m{\u001b[39;00minitial_sql_query\u001b[38;5;132;01m}\u001b[39;00m\u001b[38;5;130;01m\\n\u001b[39;00m\u001b[38;5;124m has a WHERE clause.\u001b[39m\u001b[38;5;124m\"\u001b[39m)\n\u001b[0;32m--> 178\u001b[0m     initial_sql_query_where, semantic_list_where, result_where, temp_meta\u001b[38;5;241m=\u001b[39m\u001b[43mrow_calculus_pipeline\u001b[49m\u001b[43m(\u001b[49m\u001b[43minitial_sql_query\u001b[49m\u001b[43m,\u001b[49m\u001b[43m \u001b[49m\u001b[43mevaluation\u001b[49m\u001b[38;5;241;43m=\u001b[39;49m\u001b[38;5;28;43;01mTrue\u001b[39;49;00m\u001b[43m,\u001b[49m\u001b[43m \u001b[49m\u001b[43mreturn_metadata\u001b[49m\u001b[38;5;241;43m=\u001b[39;49m\u001b[38;5;28;43;01mTrue\u001b[39;49;00m\u001b[43m)\u001b[49m\n\u001b[1;32m    179\u001b[0m     add_metadata(temp_meta, usage_metadata_total)\n\u001b[1;32m    180\u001b[0m     output\u001b[38;5;241m=\u001b[39mresult_where\n",
      "File \u001b[0;32m~/Documents/Masterarbeit/Relational/Main/row_calculus_pipeline.py:486\u001b[0m, in \u001b[0;36mrow_calculus_pipeline\u001b[0;34m(initial_sql_query, evaluation, return_metadata)\u001b[0m\n\u001b[1;32m    484\u001b[0m conditions \u001b[38;5;241m=\u001b[39m extract_where_conditions_sqlparse(initial_sql_query)\n\u001b[1;32m    485\u001b[0m query_results \u001b[38;5;241m=\u001b[39m execute_queries_on_conditions(conditions)\n\u001b[0;32m--> 486\u001b[0m semantic_list\u001b[38;5;241m=\u001b[39m\u001b[43mcompare_semantics_in_list\u001b[49m\u001b[43m(\u001b[49m\u001b[43mquery_results\u001b[49m\u001b[43m)\u001b[49m\n\u001b[1;32m    487\u001b[0m \u001b[38;5;28mprint\u001b[39m(\u001b[38;5;124mf\u001b[39m\u001b[38;5;124m\"\u001b[39m\u001b[38;5;124mThe semantics list is \u001b[39m\u001b[38;5;132;01m{\u001b[39;00msemantic_list\u001b[38;5;132;01m}\u001b[39;00m\u001b[38;5;124m\"\u001b[39m)\n\u001b[1;32m    489\u001b[0m \u001b[38;5;66;03m# Build the list of semantic pairs as a string\u001b[39;00m\n",
      "File \u001b[0;32m~/Documents/Masterarbeit/Relational/Main/row_calculus_pipeline.py:405\u001b[0m, in \u001b[0;36mcompare_semantics_in_list\u001b[0;34m(input_list)\u001b[0m\n\u001b[1;32m    400\u001b[0m     total_prompt\u001b[38;5;241m+\u001b[39m\u001b[38;5;241m=\u001b[39mprompt\n\u001b[1;32m    402\u001b[0m \u001b[38;5;66;03m#Figure out the binding by giving out a list of lists    \u001b[39;00m\n\u001b[1;32m    403\u001b[0m \u001b[38;5;66;03m# response = llm_json(total_prompt, response_type=list[bool])\u001b[39;00m\n\u001b[0;32m--> 405\u001b[0m answer,temp_meta\u001b[38;5;241m=\u001b[39m\u001b[43mask_llm\u001b[49m\u001b[43m(\u001b[49m\u001b[43mtotal_prompt\u001b[49m\u001b[43m,\u001b[49m\u001b[43mreturn_metadata\u001b[49m\u001b[38;5;241;43m=\u001b[39;49m\u001b[38;5;28;43;01mTrue\u001b[39;49;00m\u001b[43m)\u001b[49m\n\u001b[1;32m    406\u001b[0m _\u001b[38;5;241m=\u001b[39madd_metadata(temp_meta,usage_metadata_row)\n\u001b[1;32m    407\u001b[0m response, temp_meta \u001b[38;5;241m=\u001b[39m llm_json(\u001b[38;5;124mf\u001b[39m\u001b[38;5;124m\"\u001b[39m\u001b[38;5;124mFor this question \u001b[39m\u001b[38;5;130;01m\\n\u001b[39;00m\u001b[38;5;132;01m{\u001b[39;00mtotal_prompt\u001b[38;5;132;01m}\u001b[39;00m\u001b[38;5;124m \u001b[39m\u001b[38;5;130;01m\\n\u001b[39;00m\u001b[38;5;124m The following asnwer was given \u001b[39m\u001b[38;5;132;01m{\u001b[39;00manswer\u001b[38;5;132;01m}\u001b[39;00m\u001b[38;5;124m. Return the necessary answer whether this question is true or False\u001b[39m\u001b[38;5;124m\"\u001b[39m, response_type\u001b[38;5;241m=\u001b[39m\u001b[38;5;28mlist\u001b[39m[\u001b[38;5;28mbool\u001b[39m], return_metadata\u001b[38;5;241m=\u001b[39m\u001b[38;5;28;01mTrue\u001b[39;00m)  \u001b[38;5;66;03m# Expect a list of booleans back\u001b[39;00m\n",
      "File \u001b[0;32m~/Documents/Masterarbeit/Relational/Utilities/llm.py:58\u001b[0m, in \u001b[0;36mask_llm\u001b[0;34m(prompt, return_metadata, temp, max_token, model)\u001b[0m\n\u001b[1;32m     56\u001b[0m \u001b[38;5;28;01mexcept\u001b[39;00m ResourceExhausted \u001b[38;5;28;01mas\u001b[39;00m e:\n\u001b[1;32m     57\u001b[0m     \u001b[38;5;28mprint\u001b[39m(\u001b[38;5;124m\"\u001b[39m\u001b[38;5;124mTime exception has occured\u001b[39m\u001b[38;5;124m\"\u001b[39m)\n\u001b[0;32m---> 58\u001b[0m     \u001b[38;5;28;01mraise\u001b[39;00m RessourceError(\u001b[38;5;124m\"\u001b[39m\u001b[38;5;124mAPI rate limit exceeded!\u001b[39m\u001b[38;5;124m\"\u001b[39m)\n\u001b[1;32m     60\u001b[0m \u001b[38;5;28;01mif\u001b[39;00m return_metadata:\n\u001b[1;32m     61\u001b[0m     usage_metadata \u001b[38;5;241m=\u001b[39m {\n\u001b[1;32m     62\u001b[0m         \u001b[38;5;124m\"\u001b[39m\u001b[38;5;124mprompt_token_count\u001b[39m\u001b[38;5;124m\"\u001b[39m: result\u001b[38;5;241m.\u001b[39musage_metadata\u001b[38;5;241m.\u001b[39mprompt_token_count,\n\u001b[1;32m     63\u001b[0m         \u001b[38;5;124m\"\u001b[39m\u001b[38;5;124mcandidates_token_count\u001b[39m\u001b[38;5;124m\"\u001b[39m: result\u001b[38;5;241m.\u001b[39musage_metadata\u001b[38;5;241m.\u001b[39mcandidates_token_count,\n\u001b[0;32m   (...)\u001b[0m\n\u001b[1;32m     66\u001b[0m         \u001b[38;5;124m\"\u001b[39m\u001b[38;5;124mtotal_calls\u001b[39m\u001b[38;5;124m\"\u001b[39m: \u001b[38;5;241m1\u001b[39m\n\u001b[1;32m     67\u001b[0m     }\n",
      "\u001b[0;31mRessourceError\u001b[0m: API rate limit exceeded!"
     ]
    }
   ],
   "source": [
    "from Main.combined_pipeline import combined_pipeline\n",
    "from Evaluation.test_evaluation import evaluate_results\n",
    "index=0\n",
    "initial_sql_query_join, semantic_list_join, result_join, initial_sql_query_where, semantic_list_where, result_where, result, tmp_metadata =combined_pipeline(query=queries[index], evaluation=True)"
   ]
  },
  {
   "cell_type": "code",
   "execution_count": 32,
   "metadata": {},
   "outputs": [
    {
     "name": "stdout",
     "output_type": "stream",
     "text": [
      "The result is None\n",
      "The answer is supposed to be {(1, 'Peter', 'ten'), (2, 'Giovanni', '11')}\n",
      "The accuracy is 0.0\n",
      "The precision is 0\n",
      "The recall is 0.0\n",
      "The f1 score is 0\n"
     ]
    }
   ],
   "source": [
    "print(f\"The result is {result}\")\n",
    "print(f\"The answer is supposed to be {answers[index]}\")\n",
    "acc, prec, rec, f1= evaluate_results(answers[index],result)\n",
    "print(f\"The accuracy is {acc}\")\n",
    "print(f\"The precision is {prec}\")\n",
    "print(f\"The recall is {rec}\")\n",
    "print(f\"The f1 score is {f1}\")"
   ]
  },
  {
   "cell_type": "markdown",
   "metadata": {},
   "source": [
    "Additionally, there is the way to examinate at which stage of the process occured. Like to be investigated here"
   ]
  },
  {
   "cell_type": "code",
   "execution_count": 23,
   "metadata": {},
   "outputs": [],
   "source": [
    "from Evaluation.test_evaluation import load_data\n",
    "filepath = os.path.join(os.getcwd(), \"temporary\", \"total_test\")\n",
    "loaded_dictionary = load_data(filepath)"
   ]
  },
  {
   "cell_type": "code",
   "execution_count": 24,
   "metadata": {},
   "outputs": [
    {
     "name": "stdout",
     "output_type": "stream",
     "text": [
      "The error count is {'initial_sql_query_join': 0, 'semantic_list_join': 0, 'result_join': 0, 'initial_sql_query_where': 0, 'semantic_list_where': 1, 'result_where': 0, 'correct_results': 0}\n"
     ]
    },
    {
     "data": {
      "text/plain": [
       "{'initial_sql_query_join': 0,\n",
       " 'semantic_list_join': 0,\n",
       " 'result_join': 0,\n",
       " 'initial_sql_query_where': 0,\n",
       " 'semantic_list_where': 1,\n",
       " 'result_where': 0,\n",
       " 'correct_results': 0}"
      ]
     },
     "execution_count": 24,
     "metadata": {},
     "output_type": "execute_result"
    }
   ],
   "source": [
    "from Evaluation.test_evaluation import comparison_logic\n",
    "\n",
    "result_dic={\n",
    "\"initial_sql_query_join\" : initial_sql_query_join,\n",
    "\"semantic_list_join\" : semantic_list_join,\n",
    "\"result_join\" : result_join,\n",
    "\"initial_sql_query_where\" : initial_sql_query_where,\n",
    "\"semantic_list_where\" : semantic_list_where,\n",
    "\"result_where\" : result_where,\n",
    "\"output\" : result, }\n",
    "#Retrieve target instances from the loaded dictionary\n",
    "target_value= queries[index]\n",
    "target_instance = None\n",
    "for i in loaded_dictionary:\n",
    "    if i[\"calculus\"]==target_value:\n",
    "        target_instance = i\n",
    "error_cnt_tmp = comparison_logic(result_dic, target_instance)\n",
    "error_cnt_tmp"
   ]
  },
  {
   "cell_type": "markdown",
   "metadata": {},
   "source": [
    "Hence, it can be seen at which stage the error occured."
   ]
  }
 ],
 "metadata": {
  "kernelspec": {
   "display_name": "venv",
   "language": "python",
   "name": "python3"
  },
  "language_info": {
   "codemirror_mode": {
    "name": "ipython",
    "version": 3
   },
   "file_extension": ".py",
   "mimetype": "text/x-python",
   "name": "python",
   "nbconvert_exporter": "python",
   "pygments_lexer": "ipython3",
   "version": "3.12.3"
  }
 },
 "nbformat": 4,
 "nbformat_minor": 2
}
