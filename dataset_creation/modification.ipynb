{
 "cells": [
  {
   "cell_type": "code",
   "execution_count": 106,
   "metadata": {},
   "outputs": [
    {
     "name": "stdout",
     "output_type": "stream",
     "text": [
      "    id  height_cm\n",
      "2    3        180\n",
      "5    6        192\n",
      "7    8        178\n",
      "8    9        185\n",
      "9   10        190\n",
      "12  13        188\n",
      "13  14        177\n",
      "15  16        195\n",
      "17  18        182\n",
      "18  19        187\n",
      "19  20        192\n",
      "22  23        180\n",
      "25  26        190\n",
      "27  28        179\n",
      "28  29        184\n",
      "29  30        189\n"
     ]
    }
   ],
   "source": [
    "import os\n",
    "import csv\n",
    "import pandas as pd\n",
    "\n",
    "file_path=os.path.join(os.getcwd(), 'heigth/heigth.csv')\n",
    "with open(file_path, 'r', newline='', encoding='utf-8') as csvfile:\n",
    "        reader = csv.reader(csvfile)\n",
    "        data = list(reader)\n",
    "        if not data or len(data[0]) == 0:\n",
    "            print(\"The CSV file is empty or improperly formatted.\")\n",
    "        else:\n",
    "            pass\n",
    "            # for row in data:\n",
    "            #     print(row)\n",
    "\n",
    "\n",
    "data = pd.read_csv(file_path)\n",
    "print(data[data['height_cm']>175])"
   ]
  },
  {
   "cell_type": "code",
   "execution_count": 82,
   "metadata": {},
   "outputs": [
    {
     "name": "stdout",
     "output_type": "stream",
     "text": [
      "{1, 5, 10, 12, 14, 15, 17, 19, 21, 29}\n"
     ]
    }
   ],
   "source": [
    "import random\n",
    "\n",
    "indexes=set()\n",
    "num_indexes = 10\n",
    "while len(indexes) < num_indexes:\n",
    "          index = random.randint(1, len(data)-1)  # Crucial:  len(data) -1\n",
    "          indexes.add(index)\n",
    "print(indexes)\n"
   ]
  },
  {
   "cell_type": "code",
   "execution_count": 93,
   "metadata": {},
   "outputs": [
    {
     "name": "stdout",
     "output_type": "stream",
     "text": [
      "{1, 5, 10, 12, 14, 15, 17, 19, 21, 29}\n",
      "{2, 3, 4, 6, 7, 8, 9, 11, 13, 16, 18, 20, 22, 23, 24, 25, 26, 27, 28, 30}\n"
     ]
    }
   ],
   "source": [
    "print(indexes)\n",
    "anti_indexes = set(range(1, len(data)))\n",
    "anti_indexes = anti_indexes - indexes\n",
    "print(anti_indexes)"
   ]
  },
  {
   "cell_type": "code",
   "execution_count": 95,
   "metadata": {},
   "outputs": [
    {
     "data": {
      "text/plain": [
       "[['id', 'height_cm'],\n",
       " ['1', '1.75 m'],\n",
       " ['2', '160 cm'],\n",
       " ['3', '180 cm'],\n",
       " ['4', '170 cm'],\n",
       " ['5', '1.55 m'],\n",
       " ['6', '192 cm'],\n",
       " ['7', '168 cm'],\n",
       " ['8', '178 cm'],\n",
       " ['9', '185 cm'],\n",
       " ['10', '1.9 m'],\n",
       " ['11', '172 cm'],\n",
       " ['12', '1.65 m'],\n",
       " ['13', '188 cm'],\n",
       " ['14', '1.77 m'],\n",
       " ['15', '1.62 m'],\n",
       " ['16', '195 cm'],\n",
       " ['17', '1.7 m'],\n",
       " ['18', '182 cm'],\n",
       " ['19', '1.87 m'],\n",
       " ['20', '192 cm'],\n",
       " ['21', '1.68 m'],\n",
       " ['22', '175 cm'],\n",
       " ['23', '180 cm'],\n",
       " ['24', '172 cm'],\n",
       " ['25', '158 cm'],\n",
       " ['26', '190 cm'],\n",
       " ['27', '167 cm'],\n",
       " ['28', '179 cm'],\n",
       " ['29', '1.84 m'],\n",
       " ['30', '189 cm']]"
      ]
     },
     "execution_count": 95,
     "metadata": {},
     "output_type": "execute_result"
    }
   ],
   "source": [
    "import math\n",
    "import copy\n",
    "mod_data = copy.deepcopy(data)\n",
    "for index in indexes:\n",
    "    tmp_list=mod_data[index]\n",
    "    tmp_list[1]=round(int(tmp_list[1])*0.01,2)\n",
    "    tmp_list[1]=f\"{tmp_list[1]} m\"\n",
    "    mod_data[index]=tmp_list\n",
    "\n",
    "for index in anti_indexes:\n",
    "        if index != 0:\n",
    "            tmp_list = mod_data[index]\n",
    "            tmp_list[1] = f\"{tmp_list[1]} cm\"\n",
    "            mod_data[index]=tmp_list\n",
    "\n",
    "\n",
    "mod_data\n"
   ]
  },
  {
   "cell_type": "code",
   "execution_count": 98,
   "metadata": {},
   "outputs": [],
   "source": [
    "filepath=os.path.join(os.getcwd(), 'heigth/heigth_mod.csv')\n",
    "with open(filepath, 'w', newline='', encoding='utf-8') as csvfile:\n",
    "            writer = csv.writer(csvfile)\n",
    "            writer.writerows(mod_data)"
   ]
  },
  {
   "cell_type": "code",
   "execution_count": null,
   "metadata": {},
   "outputs": [],
   "source": []
  }
 ],
 "metadata": {
  "kernelspec": {
   "display_name": "venv",
   "language": "python",
   "name": "python3"
  },
  "language_info": {
   "codemirror_mode": {
    "name": "ipython",
    "version": 3
   },
   "file_extension": ".py",
   "mimetype": "text/x-python",
   "name": "python",
   "nbconvert_exporter": "python",
   "pygments_lexer": "ipython3",
   "version": "3.12.2"
  }
 },
 "nbformat": 4,
 "nbformat_minor": 2
}
