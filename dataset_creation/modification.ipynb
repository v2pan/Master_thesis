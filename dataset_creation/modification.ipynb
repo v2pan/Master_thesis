{
 "cells": [
  {
   "cell_type": "code",
   "execution_count": 75,
   "metadata": {},
   "outputs": [],
   "source": [
    "import os\n",
    "import csv\n",
    "file_path=os.path.join(os.getcwd(), 'heigth/heigth.csv')\n",
    "with open(file_path, 'r', newline='', encoding='utf-8') as csvfile:\n",
    "        reader = csv.reader(csvfile)\n",
    "        data = list(reader)\n",
    "        if not data or len(data[0]) == 0:\n",
    "            print(\"The CSV file is empty or improperly formatted.\")\n",
    "        else:\n",
    "            pass\n",
    "            # for row in data:\n",
    "            #     print(row)\n"
   ]
  },
  {
   "cell_type": "code",
   "execution_count": 82,
   "metadata": {},
   "outputs": [
    {
     "name": "stdout",
     "output_type": "stream",
     "text": [
      "{1, 5, 10, 12, 14, 15, 17, 19, 21, 29}\n"
     ]
    }
   ],
   "source": [
    "import random\n",
    "\n",
    "indexes=set()\n",
    "num_indexes = 10\n",
    "while len(indexes) < num_indexes:\n",
    "          index = random.randint(1, len(data)-1)  # Crucial:  len(data) -1\n",
    "          indexes.add(index)\n",
    "print(indexes)\n"
   ]
  },
  {
   "cell_type": "code",
   "execution_count": 92,
   "metadata": {},
   "outputs": [
    {
     "name": "stdout",
     "output_type": "stream",
     "text": [
      "{1, 5, 10, 12, 14, 15, 17, 19, 21, 29}\n"
     ]
    }
   ],
   "source": [
    "print(indexes)"
   ]
  },
  {
   "cell_type": "code",
   "execution_count": 90,
   "metadata": {},
   "outputs": [
    {
     "data": {
      "text/plain": [
       "[['id', 'height_cm'],\n",
       " ['1', '1.75 m'],\n",
       " ['2', '160 m'],\n",
       " ['3', '180 m'],\n",
       " ['4', '170 m'],\n",
       " ['5', '1.55 m'],\n",
       " ['6', '192 m'],\n",
       " ['7', '168 m'],\n",
       " ['8', '178 m'],\n",
       " ['9', '185 m'],\n",
       " ['10', '1.9 m'],\n",
       " ['11', '172 m'],\n",
       " ['12', '1.65 m'],\n",
       " ['13', '188 m'],\n",
       " ['14', '1.77 m'],\n",
       " ['15', '1.62 m'],\n",
       " ['16', '195 m'],\n",
       " ['17', '1.7 m'],\n",
       " ['18', '182 m'],\n",
       " ['19', '1.87 m'],\n",
       " ['20', '192 m'],\n",
       " ['21', '1.68 m'],\n",
       " ['22', '175 m'],\n",
       " ['23', '180 m'],\n",
       " ['24', '172 m'],\n",
       " ['25', '158 m'],\n",
       " ['26', '190 m'],\n",
       " ['27', '167 m'],\n",
       " ['28', '179 m'],\n",
       " ['29', '1.84 m'],\n",
       " ['30', '189 m']]"
      ]
     },
     "execution_count": 90,
     "metadata": {},
     "output_type": "execute_result"
    }
   ],
   "source": [
    "import math\n",
    "import copy\n",
    "mod_data = copy.deepcopy(data)\n",
    "for index in indexes:\n",
    "    tmp_list=mod_data[index]\n",
    "    tmp_list[1]=round(int(tmp_list[1])*0.01,2)\n",
    "    tmp_list[1]=f\"{tmp_list[1]} m\"\n",
    "    mod_data[index]=tmp_list\n",
    "\n",
    "for index in range(len(mod_data)):\n",
    "    if index not in indexes:\n",
    "        if index != 0:\n",
    "            tmp_list = mod_data[index]\n",
    "            tmp_list[1] = f\"{tmp_list[1]} m\"\n",
    "            mod_data[index]=tmp_list\n",
    "\n",
    "\n",
    "mod_data\n"
   ]
  },
  {
   "cell_type": "code",
   "execution_count": 72,
   "metadata": {},
   "outputs": [
    {
     "name": "stdout",
     "output_type": "stream",
     "text": [
      "[['id', 'height_cm'], ['1', '175'], ['2', '160'], ['3', '180'], ['4', '170'], ['5', '155'], ['6', '192'], ['7', '168'], ['8', '178'], ['9', '185'], ['10', '190'], ['11', '172'], ['12', '165'], ['13', '188'], ['14', '177'], ['15', '162'], ['16', '195'], ['17', '170'], ['18', '182'], ['19', '187'], ['20', '192'], ['21', '168'], ['22', '175'], ['23', '180'], ['24', '172'], ['25', '158'], ['26', '190'], ['27', '167'], ['28', '179'], ['29', '184'], ['30', '189']]\n"
     ]
    }
   ],
   "source": [
    "p"
   ]
  },
  {
   "cell_type": "code",
   "execution_count": null,
   "metadata": {},
   "outputs": [],
   "source": []
  }
 ],
 "metadata": {
  "kernelspec": {
   "display_name": "venv",
   "language": "python",
   "name": "python3"
  },
  "language_info": {
   "codemirror_mode": {
    "name": "ipython",
    "version": 3
   },
   "file_extension": ".py",
   "mimetype": "text/x-python",
   "name": "python",
   "nbconvert_exporter": "python",
   "pygments_lexer": "ipython3",
   "version": "3.12.3"
  }
 },
 "nbformat": 4,
 "nbformat_minor": 2
}
